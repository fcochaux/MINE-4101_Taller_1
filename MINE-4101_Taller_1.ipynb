{
  "cells": [
    {
      "cell_type": "markdown",
      "metadata": {
        "id": "view-in-github",
        "colab_type": "text"
      },
      "source": [
        "<a href=\"https://colab.research.google.com/github/fcochaux/MINE-4101_Taller_1/blob/main/MINE-4101_Taller_1.ipynb\" target=\"_parent\"><img src=\"https://colab.research.google.com/assets/colab-badge.svg\" alt=\"Open In Colab\"/></a>"
      ]
    },
    {
      "cell_type": "markdown",
      "id": "05516d27-73bc-4821-8715-1e4cd0504d0d",
      "metadata": {
        "id": "05516d27-73bc-4821-8715-1e4cd0504d0d"
      },
      "source": [
        "# Taller 1 de Ciencia de Datos Aplicada\n",
        "\n",
        "**Estudiante:** Francisco José Chaux Guzmán <br/>\n",
        "**Código:** 202210155 <br/>\n",
        "**Programa:** Maestría en Ingeniería de la Información"
      ]
    },
    {
      "cell_type": "markdown",
      "id": "86e710d0-2cf8-46d7-a6b5-03a8b003222b",
      "metadata": {
        "id": "86e710d0-2cf8-46d7-a6b5-03a8b003222b"
      },
      "source": [
        "## Punto 1\n",
        "\n",
        "_«Describa el conjunto de datos, tipos de variables y destaque cualquier problema de calidad de datos y procesos de limpieza que deba implementar.»_"
      ]
    },
    {
      "cell_type": "markdown",
      "id": "505d1eee-4be4-489f-aede-fef94ff81d34",
      "metadata": {
        "id": "505d1eee-4be4-489f-aede-fef94ff81d34"
      },
      "source": [
        "Inicio con la carga de las librerías necesarias:"
      ]
    },
    {
      "cell_type": "code",
      "execution_count": null,
      "id": "2d0b9d35-62df-4f60-ab2b-89fa8dab5c10",
      "metadata": {
        "id": "2d0b9d35-62df-4f60-ab2b-89fa8dab5c10"
      },
      "outputs": [],
      "source": [
        "# procesamiento\n",
        "\n",
        "import numpy as np\n",
        "import pandas as pd\n",
        "import statistics\n",
        "\n",
        "# visualización\n",
        "\n",
        "import matplotlib.pyplot as plt\n",
        "import seaborn as sns"
      ]
    },
    {
      "cell_type": "markdown",
      "id": "2b7ba787-1538-4228-ab75-d954576b4027",
      "metadata": {
        "tags": [],
        "id": "2b7ba787-1538-4228-ab75-d954576b4027"
      },
      "source": [
        "A continuación, realizo la importación del conjunto de datos. Se identificaron los siguientes problemas al momento de importar:\n",
        "\n",
        "1. Al intentar realizar la lectura de la forma estándar, con la coma como delimitador, surgió un error con una observación de 19 campos, siendo que por los títulos el programa identificaba 18 campos. La razón de este error es que en el campo `artist`, en el caso del rapero _Tyler, The Creator_, la coma interna genera que el programa la identifique como otro delimitador.\n",
        "2. En el campo `genre`, en multiples ocasiones, sucede algo similar. En este caso, además de las comas internas, se identificaron problemas debido a que las comillas aparecían al inicio y final de las filas para observaciones con varios géneros musicales. Esto provocó que el programa identificara toda la fila como parte del campo `artist`.\n",
        "\n",
        "Para solucionar estos problemas, se leyó la base de forma tal que evitara las observaciones con problemas (observaciones del problema 1). Esto permitió leer la base que, aunque sigue con errores, ya son más fáciles de solucionar. De esta forma, se conservan las observaciones correctas y se arreglan las que tienen errores (las observaciones del problema 2). Adicionalmente, se leyeron las observaciones que se evitaron en la lectura inicial (problema 1). Valga aclarar que se tuvo especial atención en tener la base con los formatos de variables adecuados.\n",
        "\n",
        "Así, el procedimiento aplicado fue el siguiente:"
      ]
    },
    {
      "cell_type": "code",
      "execution_count": null,
      "id": "ddbf47b8-2dd2-438e-8b04-49b5962444c2",
      "metadata": {
        "id": "ddbf47b8-2dd2-438e-8b04-49b5962444c2",
        "outputId": "8e3ff5ca-1ef1-4355-e3ad-a056fbf28f3b"
      },
      "outputs": [
        {
          "data": {
            "text/html": [
              "<div>\n",
              "<style scoped>\n",
              "    .dataframe tbody tr th:only-of-type {\n",
              "        vertical-align: middle;\n",
              "    }\n",
              "\n",
              "    .dataframe tbody tr th {\n",
              "        vertical-align: top;\n",
              "    }\n",
              "\n",
              "    .dataframe thead th {\n",
              "        text-align: right;\n",
              "    }\n",
              "</style>\n",
              "<table border=\"1\" class=\"dataframe\">\n",
              "  <thead>\n",
              "    <tr style=\"text-align: right;\">\n",
              "      <th></th>\n",
              "      <th>artist</th>\n",
              "      <th>song</th>\n",
              "      <th>duration_ms</th>\n",
              "      <th>explicit</th>\n",
              "      <th>year</th>\n",
              "      <th>popularity</th>\n",
              "      <th>danceability</th>\n",
              "      <th>energy</th>\n",
              "      <th>key</th>\n",
              "      <th>loudness</th>\n",
              "      <th>mode</th>\n",
              "      <th>speechiness</th>\n",
              "      <th>acousticness</th>\n",
              "      <th>instrumentalness</th>\n",
              "      <th>liveness</th>\n",
              "      <th>valence</th>\n",
              "      <th>tempo</th>\n",
              "      <th>genre</th>\n",
              "    </tr>\n",
              "  </thead>\n",
              "  <tbody>\n",
              "    <tr>\n",
              "      <th>884</th>\n",
              "      <td>Elvis Presley</td>\n",
              "      <td>A Little Less Conversation - JXL Radio Edit Remix</td>\n",
              "      <td>211506.0</td>\n",
              "      <td>False</td>\n",
              "      <td>2002.0</td>\n",
              "      <td>60.0</td>\n",
              "      <td>0.597</td>\n",
              "      <td>0.970</td>\n",
              "      <td>4.0</td>\n",
              "      <td>-5.972</td>\n",
              "      <td>0.0</td>\n",
              "      <td>0.0502</td>\n",
              "      <td>0.000385</td>\n",
              "      <td>0.205000</td>\n",
              "      <td>0.133</td>\n",
              "      <td>0.717</td>\n",
              "      <td>114.999</td>\n",
              "      <td>rock|easy listening</td>\n",
              "    </tr>\n",
              "    <tr>\n",
              "      <th>1514</th>\n",
              "      <td>DEV</td>\n",
              "      <td>In The Dark</td>\n",
              "      <td>226226.0</td>\n",
              "      <td>False</td>\n",
              "      <td>2012.0</td>\n",
              "      <td>52.0</td>\n",
              "      <td>0.736</td>\n",
              "      <td>0.824</td>\n",
              "      <td>8.0</td>\n",
              "      <td>-4.231</td>\n",
              "      <td>1.0</td>\n",
              "      <td>0.0672</td>\n",
              "      <td>0.003580</td>\n",
              "      <td>0.000921</td>\n",
              "      <td>0.329</td>\n",
              "      <td>0.443</td>\n",
              "      <td>124.954</td>\n",
              "      <td>pop|Dance/Electronic</td>\n",
              "    </tr>\n",
              "    <tr>\n",
              "      <th>1824</th>\n",
              "      <td>Daya</td>\n",
              "      <td>\"Sit Still|Look Pretty\"</td>\n",
              "      <td>202221.0</td>\n",
              "      <td>False</td>\n",
              "      <td>2016.0</td>\n",
              "      <td>1.0</td>\n",
              "      <td>0.657</td>\n",
              "      <td>0.739</td>\n",
              "      <td>2.0</td>\n",
              "      <td>-4.081</td>\n",
              "      <td>1.0</td>\n",
              "      <td>0.2740</td>\n",
              "      <td>0.141000</td>\n",
              "      <td>0.000000</td>\n",
              "      <td>0.178</td>\n",
              "      <td>0.543</td>\n",
              "      <td>181.994</td>\n",
              "      <td>rock|pop|Dance/Electronic</td>\n",
              "    </tr>\n",
              "    <tr>\n",
              "      <th>1525</th>\n",
              "      <td>DJ Fresh</td>\n",
              "      <td>Hot Right Now (feat. RITA ORA) - Radio Edit</td>\n",
              "      <td>182333.0</td>\n",
              "      <td>False</td>\n",
              "      <td>2012.0</td>\n",
              "      <td>58.0</td>\n",
              "      <td>0.524</td>\n",
              "      <td>0.972</td>\n",
              "      <td>4.0</td>\n",
              "      <td>-1.569</td>\n",
              "      <td>0.0</td>\n",
              "      <td>0.0431</td>\n",
              "      <td>0.006560</td>\n",
              "      <td>0.000580</td>\n",
              "      <td>0.224</td>\n",
              "      <td>0.476</td>\n",
              "      <td>175.017</td>\n",
              "      <td>pop|Dance/Electronic</td>\n",
              "    </tr>\n",
              "    <tr>\n",
              "      <th>1903</th>\n",
              "      <td>Migos</td>\n",
              "      <td>Walk It Talk It</td>\n",
              "      <td>276147.0</td>\n",
              "      <td>True</td>\n",
              "      <td>2018.0</td>\n",
              "      <td>75.0</td>\n",
              "      <td>0.907</td>\n",
              "      <td>0.633</td>\n",
              "      <td>2.0</td>\n",
              "      <td>-5.145</td>\n",
              "      <td>1.0</td>\n",
              "      <td>0.1840</td>\n",
              "      <td>0.087600</td>\n",
              "      <td>0.000003</td>\n",
              "      <td>0.106</td>\n",
              "      <td>0.395</td>\n",
              "      <td>145.914</td>\n",
              "      <td>hip hop|pop</td>\n",
              "    </tr>\n",
              "  </tbody>\n",
              "</table>\n",
              "</div>"
            ],
            "text/plain": [
              "             artist                                               song  \\\n",
              "884   Elvis Presley  A Little Less Conversation - JXL Radio Edit Remix   \n",
              "1514            DEV                                        In The Dark   \n",
              "1824           Daya                            \"Sit Still|Look Pretty\"   \n",
              "1525       DJ Fresh        Hot Right Now (feat. RITA ORA) - Radio Edit   \n",
              "1903          Migos                                    Walk It Talk It   \n",
              "\n",
              "      duration_ms explicit    year  popularity  danceability  energy  key  \\\n",
              "884      211506.0    False  2002.0        60.0         0.597   0.970  4.0   \n",
              "1514     226226.0    False  2012.0        52.0         0.736   0.824  8.0   \n",
              "1824     202221.0    False  2016.0         1.0         0.657   0.739  2.0   \n",
              "1525     182333.0    False  2012.0        58.0         0.524   0.972  4.0   \n",
              "1903     276147.0     True  2018.0        75.0         0.907   0.633  2.0   \n",
              "\n",
              "      loudness  mode  speechiness  acousticness  instrumentalness  liveness  \\\n",
              "884     -5.972   0.0       0.0502      0.000385          0.205000     0.133   \n",
              "1514    -4.231   1.0       0.0672      0.003580          0.000921     0.329   \n",
              "1824    -4.081   1.0       0.2740      0.141000          0.000000     0.178   \n",
              "1525    -1.569   0.0       0.0431      0.006560          0.000580     0.224   \n",
              "1903    -5.145   1.0       0.1840      0.087600          0.000003     0.106   \n",
              "\n",
              "      valence    tempo                      genre  \n",
              "884     0.717  114.999        rock|easy listening  \n",
              "1514    0.443  124.954       pop|Dance/Electronic  \n",
              "1824    0.543  181.994  rock|pop|Dance/Electronic  \n",
              "1525    0.476  175.017       pop|Dance/Electronic  \n",
              "1903    0.395  145.914                hip hop|pop  "
            ]
          },
          "execution_count": 2,
          "metadata": {},
          "output_type": "execute_result"
        }
      ],
      "source": [
        "# base leída sin observaciones conflictivas\n",
        "bruta = pd.read_csv('./data/Data_Taller_1.csv', on_bad_lines = 'skip')\n",
        "# elimina el punto y coma en el nombre de la última columna\n",
        "bruta.rename(columns = {'genre;':'genre'}, inplace = True)\n",
        "# elimina el punto y coma en las observaciones de la última columna\n",
        "bruta['genre'] = bruta['genre'].replace(';','', regex=True)\n",
        "\"\"\"\n",
        "Separación de la base en dos bases: con observaciones correctas\n",
        "y con observaciones erróneas\n",
        "\"\"\"\n",
        "# base con observaciones correctas\n",
        "spotify_df = bruta[bruta['song'].notnull()]\n",
        "# base con observaciones a corregir\n",
        "erroneas = bruta[bruta['song'].isnull()]\n",
        "\"\"\"\n",
        "Corrección de errores\n",
        "\"\"\"\n",
        "# eliminación de las comas internas que generan conflicto\n",
        "corregidas = erroneas['artist'].replace(r', (?!(?:[^\"]*\"[^\"]*\")*[^\"]*$)',\n",
        "                                '|', regex=True)\n",
        "# construcción de la base corregida a partir del delimitador\n",
        "corregida = corregidas.str.split(',', expand=True)\n",
        "# corrección de los nombres de las variables en la base corregida\n",
        "corregida.columns = spotify_df.columns\n",
        "# elimina comillas y punto y coma en la variable género\n",
        "corregida['genre'] = corregida['genre'].replace(';','', regex=True)\n",
        "corregida['genre'] = corregida['genre'].replace('\"','', regex=True)\n",
        "# corrección de variables que deben ser numéricas\n",
        "corregida[['duration_ms', 'year','popularity',\n",
        "           'danceability','energy','key','loudness',\n",
        "           'mode','speechiness','acousticness',\n",
        "           'instrumentalness','liveness','valence',\n",
        "           'tempo']] = corregida[['duration_ms',\n",
        "                                  'year','popularity',\n",
        "           'danceability','energy','key','loudness',\n",
        "           'mode','speechiness','acousticness',\n",
        "           'instrumentalness','liveness','valence',\n",
        "                                  'tempo']].apply(pd.to_numeric)\n",
        "\"\"\"\n",
        "Unión de base corregida\n",
        "\"\"\"\n",
        "# unión de ambas bases\n",
        "spotify_df = pd.concat([spotify_df,corregida],\n",
        "                       ignore_index=True)\n",
        "\"\"\"\n",
        "Lectura de observaciones no incluidas en lectura inicial\n",
        "- El separador especificado es para que lea todo como una\n",
        "  única columna\n",
        "\"\"\"\n",
        "# lectura\n",
        "faltantes = pd.read_csv('./data/Data_Taller_1.csv', sep = '|',\n",
        "                       header = None)\n",
        "# selección de observación que falta, identificada a partir\n",
        "# del error arrojado en la primera lectura\n",
        "faltantes = faltantes.iloc[[1976]]\n",
        "# correcciones\n",
        "faltantes = faltantes.replace(r',(?!(?:[^\"]*\"[^\"]*\")*[^\"]*$)',\n",
        "                                '', regex=True)\n",
        "faltantes = faltantes.replace('Tyler, The Creator',\n",
        "                                'Tyler The Creator', regex=True)\n",
        "faltantes = faltantes[0].str.split(',', expand=True)\n",
        "faltantes.columns = spotify_df.columns\n",
        "faltantes['genre'] = faltantes['genre'].replace(';','', regex=True)\n",
        "faltantes[['duration_ms', 'year','popularity',\n",
        "           'danceability','energy','key','loudness',\n",
        "           'mode','speechiness','acousticness',\n",
        "           'instrumentalness','liveness','valence',\n",
        "           'tempo']] = faltantes[['duration_ms',\n",
        "                                  'year','popularity',\n",
        "           'danceability','energy','key','loudness',\n",
        "           'mode','speechiness','acousticness',\n",
        "           'instrumentalness','liveness','valence',\n",
        "                                  'tempo']].apply(pd.to_numeric)\n",
        "\"\"\"\n",
        "Base definitiva\n",
        "\"\"\"\n",
        "# unión de ambas bases\n",
        "spotify_df = pd.concat([spotify_df,faltantes],\n",
        "                       ignore_index=True)\n",
        "# revisión del resultado\n",
        "spotify_df.sample(5)"
      ]
    },
    {
      "cell_type": "markdown",
      "id": "a45d44bf-8d01-4d1e-90c6-4ec10e555305",
      "metadata": {
        "id": "a45d44bf-8d01-4d1e-90c6-4ec10e555305"
      },
      "source": [
        "A continuación, se revisan las principales características del conjunto de datos:"
      ]
    },
    {
      "cell_type": "code",
      "execution_count": null,
      "id": "a75e01e6-9b19-4f13-8696-244ee5188c96",
      "metadata": {
        "id": "a75e01e6-9b19-4f13-8696-244ee5188c96",
        "outputId": "542715ec-8f9e-4773-c14c-98eb7f49fe93"
      },
      "outputs": [
        {
          "name": "stdout",
          "output_type": "stream",
          "text": [
            "<class 'pandas.core.frame.DataFrame'>\n",
            "RangeIndex: 2000 entries, 0 to 1999\n",
            "Data columns (total 18 columns):\n",
            " #   Column            Non-Null Count  Dtype  \n",
            "---  ------            --------------  -----  \n",
            " 0   artist            2000 non-null   object \n",
            " 1   song              2000 non-null   object \n",
            " 2   duration_ms       1998 non-null   float64\n",
            " 3   explicit          2000 non-null   object \n",
            " 4   year              2000 non-null   float64\n",
            " 5   popularity        1997 non-null   float64\n",
            " 6   danceability      1997 non-null   float64\n",
            " 7   energy            2000 non-null   float64\n",
            " 8   key               2000 non-null   float64\n",
            " 9   loudness          1999 non-null   float64\n",
            " 10  mode              2000 non-null   float64\n",
            " 11  speechiness       1999 non-null   float64\n",
            " 12  acousticness      1997 non-null   float64\n",
            " 13  instrumentalness  1999 non-null   float64\n",
            " 14  liveness          2000 non-null   float64\n",
            " 15  valence           1999 non-null   float64\n",
            " 16  tempo             1998 non-null   float64\n",
            " 17  genre             2000 non-null   object \n",
            "dtypes: float64(14), object(4)\n",
            "memory usage: 281.4+ KB\n"
          ]
        }
      ],
      "source": [
        "spotify_df.info()"
      ]
    },
    {
      "cell_type": "markdown",
      "id": "5b9407d3-6f60-4dcd-a863-cde798daa6ee",
      "metadata": {
        "id": "5b9407d3-6f60-4dcd-a863-cde798daa6ee"
      },
      "source": [
        "El conjunto de datos contiene 2.000 observaciones con 18 variables. Casi todas las variables son numéricas, exceptuando `artist`, `song`, `explicit` y `genre`. Adicionalmente, las variables `duration_ms`, `popularity`, `danceability`, `speechiness`, `acousticness`, `instrumentalness`, `valence` y `tempo` contienen de 1 a 3 valores faltantes."
      ]
    },
    {
      "cell_type": "markdown",
      "id": "6db6f0b4-2c54-428a-8439-617a26ba4dc3",
      "metadata": {
        "id": "6db6f0b4-2c54-428a-8439-617a26ba4dc3"
      },
      "source": [
        "### Variables categóricas\n",
        "\n",
        "Las variables `artist` y `song` son de identificación, si bien es cierto que `artist` puede llegar a considerarse categórica si el análisis así lo requiere. La variable `explicit` parece ser categórica, por lo que se realiza una revisión de sus valores para saber si lo es:"
      ]
    },
    {
      "cell_type": "code",
      "execution_count": null,
      "id": "9758baca-d4be-4af9-826c-f4187cc509a0",
      "metadata": {
        "tags": [],
        "id": "9758baca-d4be-4af9-826c-f4187cc509a0",
        "outputId": "d835eabe-41d5-4c43-bbbe-49902c831fca"
      },
      "outputs": [
        {
          "data": {
            "text/plain": [
              "explicit\n",
              "False    524\n",
              "True     179\n",
              "           1\n",
              "False    924\n",
              "True     372\n",
              "Name: explicit, dtype: int64"
            ]
          },
          "execution_count": 4,
          "metadata": {},
          "output_type": "execute_result"
        }
      ],
      "source": [
        "spotify_df.groupby('explicit', dropna=False)['explicit'].agg('count')"
      ]
    },
    {
      "cell_type": "markdown",
      "id": "fac3aa8c-f112-493c-beca-0774c0185cfa",
      "metadata": {
        "id": "fac3aa8c-f112-493c-beca-0774c0185cfa"
      },
      "source": [
        "Se comprueba que se trata de una variable booleana (no de identificación), pero se observa la repetición de las categorías `False` y `True`. Adicionalmente, se identifica un faltante que no había notado la función `info()`. Para determinar qué está pasando, se revisan los valores únicos:"
      ]
    },
    {
      "cell_type": "code",
      "execution_count": null,
      "id": "064022fa-a279-442f-b1ac-45952581680d",
      "metadata": {
        "id": "064022fa-a279-442f-b1ac-45952581680d",
        "outputId": "1f53b6d8-cd3b-44c2-89f0-3033a60de284"
      },
      "outputs": [
        {
          "name": "stdout",
          "output_type": "stream",
          "text": [
            "[False True 'False' 'True' '']\n"
          ]
        }
      ],
      "source": [
        "print(spotify_df['explicit'].unique())"
      ]
    },
    {
      "cell_type": "markdown",
      "id": "4b04be4e-0982-4114-bae8-64b371f2d940",
      "metadata": {
        "id": "4b04be4e-0982-4114-bae8-64b371f2d940"
      },
      "source": [
        "Se observa que la variable mezcla datos booleanos con tipo texto. Para solucionar esto, se convierten los datos tipo texto a booleano:"
      ]
    },
    {
      "cell_type": "code",
      "execution_count": null,
      "id": "da1eb7e4-569d-45f3-be51-c842b034d754",
      "metadata": {
        "id": "da1eb7e4-569d-45f3-be51-c842b034d754"
      },
      "outputs": [],
      "source": [
        "spotify_df['explicit'] = spotify_df['explicit'].map({\n",
        "    'True': True, 'False': False, True: True, False: False\n",
        "})"
      ]
    },
    {
      "cell_type": "markdown",
      "id": "63dfbc42-90ff-4af9-afdd-9c0fd41bc679",
      "metadata": {
        "id": "63dfbc42-90ff-4af9-afdd-9c0fd41bc679"
      },
      "source": [
        "De esta forma, se arregla el problema del tipo de variable:"
      ]
    },
    {
      "cell_type": "code",
      "execution_count": null,
      "id": "fce27bae-9922-4256-90b8-032b0d17a57d",
      "metadata": {
        "id": "fce27bae-9922-4256-90b8-032b0d17a57d",
        "outputId": "86b9f011-320c-48d4-bad8-0d9b065fe63f"
      },
      "outputs": [
        {
          "data": {
            "text/plain": [
              "explicit\n",
              "False    1448\n",
              "True      551\n",
              "Name: explicit, dtype: int64"
            ]
          },
          "execution_count": 7,
          "metadata": {},
          "output_type": "execute_result"
        }
      ],
      "source": [
        "spotify_df.groupby('explicit')['explicit'].agg('count')"
      ]
    },
    {
      "cell_type": "markdown",
      "id": "5383b5f0-dded-4bf7-81d7-1676dcf412cf",
      "metadata": {
        "id": "5383b5f0-dded-4bf7-81d7-1676dcf412cf"
      },
      "source": [
        "De cualquier forma, es importante hacer notar que queda el valor nulo identificado anteriormente:"
      ]
    },
    {
      "cell_type": "code",
      "execution_count": null,
      "id": "4d40cf5e-449e-46e7-9310-50d4dfb701aa",
      "metadata": {
        "id": "4d40cf5e-449e-46e7-9310-50d4dfb701aa",
        "outputId": "7779d663-0699-4bbd-d084-d12e97679641"
      },
      "outputs": [
        {
          "data": {
            "text/plain": [
              "1"
            ]
          },
          "execution_count": 8,
          "metadata": {},
          "output_type": "execute_result"
        }
      ],
      "source": [
        "spotify_df['explicit'].isna().sum()"
      ]
    },
    {
      "cell_type": "markdown",
      "id": "7a11a053-fd25-4bb3-b19f-b46e30bc6e20",
      "metadata": {
        "id": "7a11a053-fd25-4bb3-b19f-b46e30bc6e20"
      },
      "source": [
        "Pasando a la variable `genre`, la tabla de frecuencias correspondiente es la siguiente:"
      ]
    },
    {
      "cell_type": "code",
      "execution_count": null,
      "id": "d45f7e81-7252-43f6-96c1-76d9d8e8486b",
      "metadata": {
        "id": "d45f7e81-7252-43f6-96c1-76d9d8e8486b",
        "outputId": "8cb7aa28-d4f4-4980-ff11-ede581eadca1"
      },
      "outputs": [
        {
          "data": {
            "text/html": [
              "<div>\n",
              "<style scoped>\n",
              "    .dataframe tbody tr th:only-of-type {\n",
              "        vertical-align: middle;\n",
              "    }\n",
              "\n",
              "    .dataframe tbody tr th {\n",
              "        vertical-align: top;\n",
              "    }\n",
              "\n",
              "    .dataframe thead th {\n",
              "        text-align: right;\n",
              "    }\n",
              "</style>\n",
              "<table border=\"1\" class=\"dataframe\">\n",
              "  <thead>\n",
              "    <tr style=\"text-align: right;\">\n",
              "      <th></th>\n",
              "      <th>genre</th>\n",
              "      <th>count</th>\n",
              "    </tr>\n",
              "  </thead>\n",
              "  <tbody>\n",
              "    <tr>\n",
              "      <th>0</th>\n",
              "      <td></td>\n",
              "      <td>1</td>\n",
              "    </tr>\n",
              "    <tr>\n",
              "      <th>1</th>\n",
              "      <td>Dance/Electronic</td>\n",
              "      <td>41</td>\n",
              "    </tr>\n",
              "    <tr>\n",
              "      <th>2</th>\n",
              "      <td>Folk/Acoustic|pop</td>\n",
              "      <td>2</td>\n",
              "    </tr>\n",
              "    <tr>\n",
              "      <th>3</th>\n",
              "      <td>Folk/Acoustic|rock</td>\n",
              "      <td>1</td>\n",
              "    </tr>\n",
              "    <tr>\n",
              "      <th>4</th>\n",
              "      <td>Folk/Acoustic|rock|pop</td>\n",
              "      <td>1</td>\n",
              "    </tr>\n",
              "    <tr>\n",
              "      <th>5</th>\n",
              "      <td>R&amp;B</td>\n",
              "      <td>13</td>\n",
              "    </tr>\n",
              "    <tr>\n",
              "      <th>6</th>\n",
              "      <td>World/Traditional|Folk/Acoustic</td>\n",
              "      <td>1</td>\n",
              "    </tr>\n",
              "    <tr>\n",
              "      <th>7</th>\n",
              "      <td>World/Traditional|hip hop</td>\n",
              "      <td>2</td>\n",
              "    </tr>\n",
              "    <tr>\n",
              "      <th>8</th>\n",
              "      <td>World/Traditional|pop</td>\n",
              "      <td>1</td>\n",
              "    </tr>\n",
              "    <tr>\n",
              "      <th>9</th>\n",
              "      <td>World/Traditional|pop|Folk/Acoustic</td>\n",
              "      <td>2</td>\n",
              "    </tr>\n",
              "    <tr>\n",
              "      <th>10</th>\n",
              "      <td>World/Traditional|rock</td>\n",
              "      <td>2</td>\n",
              "    </tr>\n",
              "    <tr>\n",
              "      <th>11</th>\n",
              "      <td>World/Traditional|rock|pop</td>\n",
              "      <td>2</td>\n",
              "    </tr>\n",
              "    <tr>\n",
              "      <th>12</th>\n",
              "      <td>country</td>\n",
              "      <td>10</td>\n",
              "    </tr>\n",
              "    <tr>\n",
              "      <th>13</th>\n",
              "      <td>country|latin</td>\n",
              "      <td>1</td>\n",
              "    </tr>\n",
              "    <tr>\n",
              "      <th>14</th>\n",
              "      <td>easy listening</td>\n",
              "      <td>1</td>\n",
              "    </tr>\n",
              "    <tr>\n",
              "      <th>15</th>\n",
              "      <td>hip hop</td>\n",
              "      <td>124</td>\n",
              "    </tr>\n",
              "    <tr>\n",
              "      <th>16</th>\n",
              "      <td>hip hop|Dance/Electronic</td>\n",
              "      <td>16</td>\n",
              "    </tr>\n",
              "    <tr>\n",
              "      <th>17</th>\n",
              "      <td>hip hop|R&amp;B</td>\n",
              "      <td>3</td>\n",
              "    </tr>\n",
              "    <tr>\n",
              "      <th>18</th>\n",
              "      <td>hip hop|country</td>\n",
              "      <td>1</td>\n",
              "    </tr>\n",
              "    <tr>\n",
              "      <th>19</th>\n",
              "      <td>hip hop|latin|Dance/Electronic</td>\n",
              "      <td>1</td>\n",
              "    </tr>\n",
              "    <tr>\n",
              "      <th>20</th>\n",
              "      <td>hip hop|pop</td>\n",
              "      <td>277</td>\n",
              "    </tr>\n",
              "    <tr>\n",
              "      <th>21</th>\n",
              "      <td>hip hop|pop|Dance/Electronic</td>\n",
              "      <td>78</td>\n",
              "    </tr>\n",
              "    <tr>\n",
              "      <th>22</th>\n",
              "      <td>hip hop|pop|R&amp;B</td>\n",
              "      <td>244</td>\n",
              "    </tr>\n",
              "    <tr>\n",
              "      <th>23</th>\n",
              "      <td>hip hop|pop|R&amp;B|Dance/Electronic</td>\n",
              "      <td>3</td>\n",
              "    </tr>\n",
              "    <tr>\n",
              "      <th>24</th>\n",
              "      <td>hip hop|pop|R&amp;B|latin</td>\n",
              "      <td>3</td>\n",
              "    </tr>\n",
              "    <tr>\n",
              "      <th>25</th>\n",
              "      <td>hip hop|pop|country</td>\n",
              "      <td>1</td>\n",
              "    </tr>\n",
              "    <tr>\n",
              "      <th>26</th>\n",
              "      <td>hip hop|pop|latin</td>\n",
              "      <td>14</td>\n",
              "    </tr>\n",
              "    <tr>\n",
              "      <th>27</th>\n",
              "      <td>hip hop|pop|rock</td>\n",
              "      <td>9</td>\n",
              "    </tr>\n",
              "    <tr>\n",
              "      <th>28</th>\n",
              "      <td>hip hop|rock|pop</td>\n",
              "      <td>2</td>\n",
              "    </tr>\n",
              "    <tr>\n",
              "      <th>29</th>\n",
              "      <td>latin</td>\n",
              "      <td>15</td>\n",
              "    </tr>\n",
              "    <tr>\n",
              "      <th>30</th>\n",
              "      <td>metal</td>\n",
              "      <td>9</td>\n",
              "    </tr>\n",
              "    <tr>\n",
              "      <th>31</th>\n",
              "      <td>pop</td>\n",
              "      <td>428</td>\n",
              "    </tr>\n",
              "    <tr>\n",
              "      <th>32</th>\n",
              "      <td>pop|Dance/Electronic</td>\n",
              "      <td>221</td>\n",
              "    </tr>\n",
              "    <tr>\n",
              "      <th>33</th>\n",
              "      <td>pop|Folk/Acoustic</td>\n",
              "      <td>8</td>\n",
              "    </tr>\n",
              "    <tr>\n",
              "      <th>34</th>\n",
              "      <td>pop|R&amp;B</td>\n",
              "      <td>178</td>\n",
              "    </tr>\n",
              "    <tr>\n",
              "      <th>35</th>\n",
              "      <td>pop|R&amp;B|Dance/Electronic</td>\n",
              "      <td>6</td>\n",
              "    </tr>\n",
              "    <tr>\n",
              "      <th>36</th>\n",
              "      <td>pop|R&amp;B|easy listening</td>\n",
              "      <td>1</td>\n",
              "    </tr>\n",
              "    <tr>\n",
              "      <th>37</th>\n",
              "      <td>pop|country</td>\n",
              "      <td>8</td>\n",
              "    </tr>\n",
              "    <tr>\n",
              "      <th>38</th>\n",
              "      <td>pop|easy listening|Dance/Electronic</td>\n",
              "      <td>1</td>\n",
              "    </tr>\n",
              "    <tr>\n",
              "      <th>39</th>\n",
              "      <td>pop|easy listening|jazz</td>\n",
              "      <td>2</td>\n",
              "    </tr>\n",
              "    <tr>\n",
              "      <th>40</th>\n",
              "      <td>pop|latin</td>\n",
              "      <td>28</td>\n",
              "    </tr>\n",
              "    <tr>\n",
              "      <th>41</th>\n",
              "      <td>pop|rock</td>\n",
              "      <td>26</td>\n",
              "    </tr>\n",
              "    <tr>\n",
              "      <th>42</th>\n",
              "      <td>pop|rock|Dance/Electronic</td>\n",
              "      <td>13</td>\n",
              "    </tr>\n",
              "    <tr>\n",
              "      <th>43</th>\n",
              "      <td>pop|rock|Folk/Acoustic</td>\n",
              "      <td>2</td>\n",
              "    </tr>\n",
              "    <tr>\n",
              "      <th>44</th>\n",
              "      <td>pop|rock|metal</td>\n",
              "      <td>14</td>\n",
              "    </tr>\n",
              "    <tr>\n",
              "      <th>45</th>\n",
              "      <td>rock</td>\n",
              "      <td>57</td>\n",
              "    </tr>\n",
              "    <tr>\n",
              "      <th>46</th>\n",
              "      <td>rock|Dance/Electronic</td>\n",
              "      <td>1</td>\n",
              "    </tr>\n",
              "    <tr>\n",
              "      <th>47</th>\n",
              "      <td>rock|Folk/Acoustic|easy listening</td>\n",
              "      <td>1</td>\n",
              "    </tr>\n",
              "    <tr>\n",
              "      <th>48</th>\n",
              "      <td>rock|Folk/Acoustic|pop</td>\n",
              "      <td>1</td>\n",
              "    </tr>\n",
              "    <tr>\n",
              "      <th>49</th>\n",
              "      <td>rock|R&amp;B|Folk/Acoustic|pop</td>\n",
              "      <td>1</td>\n",
              "    </tr>\n",
              "    <tr>\n",
              "      <th>50</th>\n",
              "      <td>rock|blues</td>\n",
              "      <td>2</td>\n",
              "    </tr>\n",
              "    <tr>\n",
              "      <th>51</th>\n",
              "      <td>rock|blues|latin</td>\n",
              "      <td>2</td>\n",
              "    </tr>\n",
              "    <tr>\n",
              "      <th>52</th>\n",
              "      <td>rock|classical</td>\n",
              "      <td>1</td>\n",
              "    </tr>\n",
              "    <tr>\n",
              "      <th>53</th>\n",
              "      <td>rock|easy listening</td>\n",
              "      <td>1</td>\n",
              "    </tr>\n",
              "    <tr>\n",
              "      <th>54</th>\n",
              "      <td>rock|metal</td>\n",
              "      <td>38</td>\n",
              "    </tr>\n",
              "    <tr>\n",
              "      <th>55</th>\n",
              "      <td>rock|pop</td>\n",
              "      <td>43</td>\n",
              "    </tr>\n",
              "    <tr>\n",
              "      <th>56</th>\n",
              "      <td>rock|pop|Dance/Electronic</td>\n",
              "      <td>8</td>\n",
              "    </tr>\n",
              "    <tr>\n",
              "      <th>57</th>\n",
              "      <td>rock|pop|metal</td>\n",
              "      <td>4</td>\n",
              "    </tr>\n",
              "    <tr>\n",
              "      <th>58</th>\n",
              "      <td>rock|pop|metal|Dance/Electronic</td>\n",
              "      <td>1</td>\n",
              "    </tr>\n",
              "    <tr>\n",
              "      <th>59</th>\n",
              "      <td>set()</td>\n",
              "      <td>22</td>\n",
              "    </tr>\n",
              "  </tbody>\n",
              "</table>\n",
              "</div>"
            ],
            "text/plain": [
              "                                  genre  count\n",
              "0                                            1\n",
              "1                      Dance/Electronic     41\n",
              "2                     Folk/Acoustic|pop      2\n",
              "3                    Folk/Acoustic|rock      1\n",
              "4                Folk/Acoustic|rock|pop      1\n",
              "5                                   R&B     13\n",
              "6       World/Traditional|Folk/Acoustic      1\n",
              "7             World/Traditional|hip hop      2\n",
              "8                 World/Traditional|pop      1\n",
              "9   World/Traditional|pop|Folk/Acoustic      2\n",
              "10               World/Traditional|rock      2\n",
              "11           World/Traditional|rock|pop      2\n",
              "12                              country     10\n",
              "13                        country|latin      1\n",
              "14                       easy listening      1\n",
              "15                              hip hop    124\n",
              "16             hip hop|Dance/Electronic     16\n",
              "17                          hip hop|R&B      3\n",
              "18                      hip hop|country      1\n",
              "19       hip hop|latin|Dance/Electronic      1\n",
              "20                          hip hop|pop    277\n",
              "21         hip hop|pop|Dance/Electronic     78\n",
              "22                      hip hop|pop|R&B    244\n",
              "23     hip hop|pop|R&B|Dance/Electronic      3\n",
              "24                hip hop|pop|R&B|latin      3\n",
              "25                  hip hop|pop|country      1\n",
              "26                    hip hop|pop|latin     14\n",
              "27                     hip hop|pop|rock      9\n",
              "28                     hip hop|rock|pop      2\n",
              "29                                latin     15\n",
              "30                                metal      9\n",
              "31                                  pop    428\n",
              "32                 pop|Dance/Electronic    221\n",
              "33                    pop|Folk/Acoustic      8\n",
              "34                              pop|R&B    178\n",
              "35             pop|R&B|Dance/Electronic      6\n",
              "36               pop|R&B|easy listening      1\n",
              "37                          pop|country      8\n",
              "38  pop|easy listening|Dance/Electronic      1\n",
              "39              pop|easy listening|jazz      2\n",
              "40                            pop|latin     28\n",
              "41                             pop|rock     26\n",
              "42            pop|rock|Dance/Electronic     13\n",
              "43               pop|rock|Folk/Acoustic      2\n",
              "44                       pop|rock|metal     14\n",
              "45                                 rock     57\n",
              "46                rock|Dance/Electronic      1\n",
              "47    rock|Folk/Acoustic|easy listening      1\n",
              "48               rock|Folk/Acoustic|pop      1\n",
              "49           rock|R&B|Folk/Acoustic|pop      1\n",
              "50                           rock|blues      2\n",
              "51                     rock|blues|latin      2\n",
              "52                       rock|classical      1\n",
              "53                  rock|easy listening      1\n",
              "54                           rock|metal     38\n",
              "55                             rock|pop     43\n",
              "56            rock|pop|Dance/Electronic      8\n",
              "57                       rock|pop|metal      4\n",
              "58      rock|pop|metal|Dance/Electronic      1\n",
              "59                                set()     22"
            ]
          },
          "execution_count": 9,
          "metadata": {},
          "output_type": "execute_result"
        }
      ],
      "source": [
        "spotify_df[['genre']].groupby('genre')['genre'] \\\n",
        "                             .count() \\\n",
        "                             .reset_index(name='count')"
      ]
    },
    {
      "cell_type": "markdown",
      "id": "dd4481d7-b363-4605-b493-1f517db1465d",
      "metadata": {
        "id": "dd4481d7-b363-4605-b493-1f517db1465d"
      },
      "source": [
        "La variable contiene muchas categorías y, en su mayoría, mezcla varios géneros. Esto ya se había visto en el proceso de importación. Adicionalmente, el valor `set()` es, evidentemente, un faltante.\n",
        "\n",
        "El tratamiento que se realice a la variable dependerá del tipo de análisis que se vaya a realizar. Por esta razón, por ahora, el único tratamiento que se aplicará será el de convertir los casos de `set()` a nulo:"
      ]
    },
    {
      "cell_type": "code",
      "execution_count": null,
      "id": "b482dbea-fb4b-49ba-aefb-fcc3350ac7d0",
      "metadata": {
        "id": "b482dbea-fb4b-49ba-aefb-fcc3350ac7d0",
        "outputId": "90e31088-d3b6-42a0-bfee-7a925c4cebe3"
      },
      "outputs": [
        {
          "data": {
            "text/html": [
              "<div>\n",
              "<style scoped>\n",
              "    .dataframe tbody tr th:only-of-type {\n",
              "        vertical-align: middle;\n",
              "    }\n",
              "\n",
              "    .dataframe tbody tr th {\n",
              "        vertical-align: top;\n",
              "    }\n",
              "\n",
              "    .dataframe thead th {\n",
              "        text-align: right;\n",
              "    }\n",
              "</style>\n",
              "<table border=\"1\" class=\"dataframe\">\n",
              "  <thead>\n",
              "    <tr style=\"text-align: right;\">\n",
              "      <th></th>\n",
              "      <th>genre</th>\n",
              "      <th>count</th>\n",
              "    </tr>\n",
              "  </thead>\n",
              "  <tbody>\n",
              "    <tr>\n",
              "      <th>0</th>\n",
              "      <td></td>\n",
              "      <td>23</td>\n",
              "    </tr>\n",
              "    <tr>\n",
              "      <th>1</th>\n",
              "      <td>Dance/Electronic</td>\n",
              "      <td>41</td>\n",
              "    </tr>\n",
              "    <tr>\n",
              "      <th>2</th>\n",
              "      <td>Folk/Acoustic|pop</td>\n",
              "      <td>2</td>\n",
              "    </tr>\n",
              "    <tr>\n",
              "      <th>3</th>\n",
              "      <td>Folk/Acoustic|rock</td>\n",
              "      <td>1</td>\n",
              "    </tr>\n",
              "    <tr>\n",
              "      <th>4</th>\n",
              "      <td>Folk/Acoustic|rock|pop</td>\n",
              "      <td>1</td>\n",
              "    </tr>\n",
              "    <tr>\n",
              "      <th>5</th>\n",
              "      <td>R&amp;B</td>\n",
              "      <td>13</td>\n",
              "    </tr>\n",
              "    <tr>\n",
              "      <th>6</th>\n",
              "      <td>World/Traditional|Folk/Acoustic</td>\n",
              "      <td>1</td>\n",
              "    </tr>\n",
              "    <tr>\n",
              "      <th>7</th>\n",
              "      <td>World/Traditional|hip hop</td>\n",
              "      <td>2</td>\n",
              "    </tr>\n",
              "    <tr>\n",
              "      <th>8</th>\n",
              "      <td>World/Traditional|pop</td>\n",
              "      <td>1</td>\n",
              "    </tr>\n",
              "    <tr>\n",
              "      <th>9</th>\n",
              "      <td>World/Traditional|pop|Folk/Acoustic</td>\n",
              "      <td>2</td>\n",
              "    </tr>\n",
              "    <tr>\n",
              "      <th>10</th>\n",
              "      <td>World/Traditional|rock</td>\n",
              "      <td>2</td>\n",
              "    </tr>\n",
              "    <tr>\n",
              "      <th>11</th>\n",
              "      <td>World/Traditional|rock|pop</td>\n",
              "      <td>2</td>\n",
              "    </tr>\n",
              "    <tr>\n",
              "      <th>12</th>\n",
              "      <td>country</td>\n",
              "      <td>10</td>\n",
              "    </tr>\n",
              "    <tr>\n",
              "      <th>13</th>\n",
              "      <td>country|latin</td>\n",
              "      <td>1</td>\n",
              "    </tr>\n",
              "    <tr>\n",
              "      <th>14</th>\n",
              "      <td>easy listening</td>\n",
              "      <td>1</td>\n",
              "    </tr>\n",
              "    <tr>\n",
              "      <th>15</th>\n",
              "      <td>hip hop</td>\n",
              "      <td>124</td>\n",
              "    </tr>\n",
              "    <tr>\n",
              "      <th>16</th>\n",
              "      <td>hip hop|Dance/Electronic</td>\n",
              "      <td>16</td>\n",
              "    </tr>\n",
              "    <tr>\n",
              "      <th>17</th>\n",
              "      <td>hip hop|R&amp;B</td>\n",
              "      <td>3</td>\n",
              "    </tr>\n",
              "    <tr>\n",
              "      <th>18</th>\n",
              "      <td>hip hop|country</td>\n",
              "      <td>1</td>\n",
              "    </tr>\n",
              "    <tr>\n",
              "      <th>19</th>\n",
              "      <td>hip hop|latin|Dance/Electronic</td>\n",
              "      <td>1</td>\n",
              "    </tr>\n",
              "    <tr>\n",
              "      <th>20</th>\n",
              "      <td>hip hop|pop</td>\n",
              "      <td>277</td>\n",
              "    </tr>\n",
              "    <tr>\n",
              "      <th>21</th>\n",
              "      <td>hip hop|pop|Dance/Electronic</td>\n",
              "      <td>78</td>\n",
              "    </tr>\n",
              "    <tr>\n",
              "      <th>22</th>\n",
              "      <td>hip hop|pop|R&amp;B</td>\n",
              "      <td>244</td>\n",
              "    </tr>\n",
              "    <tr>\n",
              "      <th>23</th>\n",
              "      <td>hip hop|pop|R&amp;B|Dance/Electronic</td>\n",
              "      <td>3</td>\n",
              "    </tr>\n",
              "    <tr>\n",
              "      <th>24</th>\n",
              "      <td>hip hop|pop|R&amp;B|latin</td>\n",
              "      <td>3</td>\n",
              "    </tr>\n",
              "    <tr>\n",
              "      <th>25</th>\n",
              "      <td>hip hop|pop|country</td>\n",
              "      <td>1</td>\n",
              "    </tr>\n",
              "    <tr>\n",
              "      <th>26</th>\n",
              "      <td>hip hop|pop|latin</td>\n",
              "      <td>14</td>\n",
              "    </tr>\n",
              "    <tr>\n",
              "      <th>27</th>\n",
              "      <td>hip hop|pop|rock</td>\n",
              "      <td>9</td>\n",
              "    </tr>\n",
              "    <tr>\n",
              "      <th>28</th>\n",
              "      <td>hip hop|rock|pop</td>\n",
              "      <td>2</td>\n",
              "    </tr>\n",
              "    <tr>\n",
              "      <th>29</th>\n",
              "      <td>latin</td>\n",
              "      <td>15</td>\n",
              "    </tr>\n",
              "    <tr>\n",
              "      <th>30</th>\n",
              "      <td>metal</td>\n",
              "      <td>9</td>\n",
              "    </tr>\n",
              "    <tr>\n",
              "      <th>31</th>\n",
              "      <td>pop</td>\n",
              "      <td>428</td>\n",
              "    </tr>\n",
              "    <tr>\n",
              "      <th>32</th>\n",
              "      <td>pop|Dance/Electronic</td>\n",
              "      <td>221</td>\n",
              "    </tr>\n",
              "    <tr>\n",
              "      <th>33</th>\n",
              "      <td>pop|Folk/Acoustic</td>\n",
              "      <td>8</td>\n",
              "    </tr>\n",
              "    <tr>\n",
              "      <th>34</th>\n",
              "      <td>pop|R&amp;B</td>\n",
              "      <td>178</td>\n",
              "    </tr>\n",
              "    <tr>\n",
              "      <th>35</th>\n",
              "      <td>pop|R&amp;B|Dance/Electronic</td>\n",
              "      <td>6</td>\n",
              "    </tr>\n",
              "    <tr>\n",
              "      <th>36</th>\n",
              "      <td>pop|R&amp;B|easy listening</td>\n",
              "      <td>1</td>\n",
              "    </tr>\n",
              "    <tr>\n",
              "      <th>37</th>\n",
              "      <td>pop|country</td>\n",
              "      <td>8</td>\n",
              "    </tr>\n",
              "    <tr>\n",
              "      <th>38</th>\n",
              "      <td>pop|easy listening|Dance/Electronic</td>\n",
              "      <td>1</td>\n",
              "    </tr>\n",
              "    <tr>\n",
              "      <th>39</th>\n",
              "      <td>pop|easy listening|jazz</td>\n",
              "      <td>2</td>\n",
              "    </tr>\n",
              "    <tr>\n",
              "      <th>40</th>\n",
              "      <td>pop|latin</td>\n",
              "      <td>28</td>\n",
              "    </tr>\n",
              "    <tr>\n",
              "      <th>41</th>\n",
              "      <td>pop|rock</td>\n",
              "      <td>26</td>\n",
              "    </tr>\n",
              "    <tr>\n",
              "      <th>42</th>\n",
              "      <td>pop|rock|Dance/Electronic</td>\n",
              "      <td>13</td>\n",
              "    </tr>\n",
              "    <tr>\n",
              "      <th>43</th>\n",
              "      <td>pop|rock|Folk/Acoustic</td>\n",
              "      <td>2</td>\n",
              "    </tr>\n",
              "    <tr>\n",
              "      <th>44</th>\n",
              "      <td>pop|rock|metal</td>\n",
              "      <td>14</td>\n",
              "    </tr>\n",
              "    <tr>\n",
              "      <th>45</th>\n",
              "      <td>rock</td>\n",
              "      <td>57</td>\n",
              "    </tr>\n",
              "    <tr>\n",
              "      <th>46</th>\n",
              "      <td>rock|Dance/Electronic</td>\n",
              "      <td>1</td>\n",
              "    </tr>\n",
              "    <tr>\n",
              "      <th>47</th>\n",
              "      <td>rock|Folk/Acoustic|easy listening</td>\n",
              "      <td>1</td>\n",
              "    </tr>\n",
              "    <tr>\n",
              "      <th>48</th>\n",
              "      <td>rock|Folk/Acoustic|pop</td>\n",
              "      <td>1</td>\n",
              "    </tr>\n",
              "    <tr>\n",
              "      <th>49</th>\n",
              "      <td>rock|R&amp;B|Folk/Acoustic|pop</td>\n",
              "      <td>1</td>\n",
              "    </tr>\n",
              "    <tr>\n",
              "      <th>50</th>\n",
              "      <td>rock|blues</td>\n",
              "      <td>2</td>\n",
              "    </tr>\n",
              "    <tr>\n",
              "      <th>51</th>\n",
              "      <td>rock|blues|latin</td>\n",
              "      <td>2</td>\n",
              "    </tr>\n",
              "    <tr>\n",
              "      <th>52</th>\n",
              "      <td>rock|classical</td>\n",
              "      <td>1</td>\n",
              "    </tr>\n",
              "    <tr>\n",
              "      <th>53</th>\n",
              "      <td>rock|easy listening</td>\n",
              "      <td>1</td>\n",
              "    </tr>\n",
              "    <tr>\n",
              "      <th>54</th>\n",
              "      <td>rock|metal</td>\n",
              "      <td>38</td>\n",
              "    </tr>\n",
              "    <tr>\n",
              "      <th>55</th>\n",
              "      <td>rock|pop</td>\n",
              "      <td>43</td>\n",
              "    </tr>\n",
              "    <tr>\n",
              "      <th>56</th>\n",
              "      <td>rock|pop|Dance/Electronic</td>\n",
              "      <td>8</td>\n",
              "    </tr>\n",
              "    <tr>\n",
              "      <th>57</th>\n",
              "      <td>rock|pop|metal</td>\n",
              "      <td>4</td>\n",
              "    </tr>\n",
              "    <tr>\n",
              "      <th>58</th>\n",
              "      <td>rock|pop|metal|Dance/Electronic</td>\n",
              "      <td>1</td>\n",
              "    </tr>\n",
              "  </tbody>\n",
              "</table>\n",
              "</div>"
            ],
            "text/plain": [
              "                                  genre  count\n",
              "0                                           23\n",
              "1                      Dance/Electronic     41\n",
              "2                     Folk/Acoustic|pop      2\n",
              "3                    Folk/Acoustic|rock      1\n",
              "4                Folk/Acoustic|rock|pop      1\n",
              "5                                   R&B     13\n",
              "6       World/Traditional|Folk/Acoustic      1\n",
              "7             World/Traditional|hip hop      2\n",
              "8                 World/Traditional|pop      1\n",
              "9   World/Traditional|pop|Folk/Acoustic      2\n",
              "10               World/Traditional|rock      2\n",
              "11           World/Traditional|rock|pop      2\n",
              "12                              country     10\n",
              "13                        country|latin      1\n",
              "14                       easy listening      1\n",
              "15                              hip hop    124\n",
              "16             hip hop|Dance/Electronic     16\n",
              "17                          hip hop|R&B      3\n",
              "18                      hip hop|country      1\n",
              "19       hip hop|latin|Dance/Electronic      1\n",
              "20                          hip hop|pop    277\n",
              "21         hip hop|pop|Dance/Electronic     78\n",
              "22                      hip hop|pop|R&B    244\n",
              "23     hip hop|pop|R&B|Dance/Electronic      3\n",
              "24                hip hop|pop|R&B|latin      3\n",
              "25                  hip hop|pop|country      1\n",
              "26                    hip hop|pop|latin     14\n",
              "27                     hip hop|pop|rock      9\n",
              "28                     hip hop|rock|pop      2\n",
              "29                                latin     15\n",
              "30                                metal      9\n",
              "31                                  pop    428\n",
              "32                 pop|Dance/Electronic    221\n",
              "33                    pop|Folk/Acoustic      8\n",
              "34                              pop|R&B    178\n",
              "35             pop|R&B|Dance/Electronic      6\n",
              "36               pop|R&B|easy listening      1\n",
              "37                          pop|country      8\n",
              "38  pop|easy listening|Dance/Electronic      1\n",
              "39              pop|easy listening|jazz      2\n",
              "40                            pop|latin     28\n",
              "41                             pop|rock     26\n",
              "42            pop|rock|Dance/Electronic     13\n",
              "43               pop|rock|Folk/Acoustic      2\n",
              "44                       pop|rock|metal     14\n",
              "45                                 rock     57\n",
              "46                rock|Dance/Electronic      1\n",
              "47    rock|Folk/Acoustic|easy listening      1\n",
              "48               rock|Folk/Acoustic|pop      1\n",
              "49           rock|R&B|Folk/Acoustic|pop      1\n",
              "50                           rock|blues      2\n",
              "51                     rock|blues|latin      2\n",
              "52                       rock|classical      1\n",
              "53                  rock|easy listening      1\n",
              "54                           rock|metal     38\n",
              "55                             rock|pop     43\n",
              "56            rock|pop|Dance/Electronic      8\n",
              "57                       rock|pop|metal      4\n",
              "58      rock|pop|metal|Dance/Electronic      1"
            ]
          },
          "execution_count": 10,
          "metadata": {},
          "output_type": "execute_result"
        }
      ],
      "source": [
        "spotify_df['genre'] = np.where(\n",
        "    spotify_df['genre'] == 'set()', '', spotify_df['genre']\n",
        ")\n",
        "spotify_df[['genre']].groupby('genre')['genre'] \\\n",
        "                             .count() \\\n",
        "                             .reset_index(name='count')"
      ]
    },
    {
      "cell_type": "markdown",
      "id": "63ced655-4fbe-46a5-8158-09c71de5b0f2",
      "metadata": {
        "id": "63ced655-4fbe-46a5-8158-09c71de5b0f2"
      },
      "source": [
        "### Variables numéricas\n",
        "\n",
        "El resumen estadístico de las variables numéricas es el siguiente:"
      ]
    },
    {
      "cell_type": "code",
      "execution_count": null,
      "id": "62bd4ca8-f9be-4fc6-ad3f-8626d8cd011e",
      "metadata": {
        "id": "62bd4ca8-f9be-4fc6-ad3f-8626d8cd011e",
        "outputId": "7bc953db-e64c-4206-f328-e47ba90c7b6c"
      },
      "outputs": [
        {
          "data": {
            "text/html": [
              "<div>\n",
              "<style scoped>\n",
              "    .dataframe tbody tr th:only-of-type {\n",
              "        vertical-align: middle;\n",
              "    }\n",
              "\n",
              "    .dataframe tbody tr th {\n",
              "        vertical-align: top;\n",
              "    }\n",
              "\n",
              "    .dataframe thead th {\n",
              "        text-align: right;\n",
              "    }\n",
              "</style>\n",
              "<table border=\"1\" class=\"dataframe\">\n",
              "  <thead>\n",
              "    <tr style=\"text-align: right;\">\n",
              "      <th></th>\n",
              "      <th>duration_ms</th>\n",
              "      <th>year</th>\n",
              "      <th>popularity</th>\n",
              "      <th>danceability</th>\n",
              "      <th>energy</th>\n",
              "      <th>key</th>\n",
              "      <th>loudness</th>\n",
              "      <th>mode</th>\n",
              "      <th>speechiness</th>\n",
              "      <th>acousticness</th>\n",
              "      <th>instrumentalness</th>\n",
              "      <th>liveness</th>\n",
              "      <th>valence</th>\n",
              "      <th>tempo</th>\n",
              "    </tr>\n",
              "  </thead>\n",
              "  <tbody>\n",
              "    <tr>\n",
              "      <th>count</th>\n",
              "      <td>1,998.00</td>\n",
              "      <td>2,000.00</td>\n",
              "      <td>1,997.00</td>\n",
              "      <td>1,997.00</td>\n",
              "      <td>2,000.00</td>\n",
              "      <td>2,000.00</td>\n",
              "      <td>1,999.00</td>\n",
              "      <td>2,000.00</td>\n",
              "      <td>1,999.00</td>\n",
              "      <td>1,997.00</td>\n",
              "      <td>1,999.00</td>\n",
              "      <td>2,000.00</td>\n",
              "      <td>1,999.00</td>\n",
              "      <td>1,998.00</td>\n",
              "    </tr>\n",
              "    <tr>\n",
              "      <th>mean</th>\n",
              "      <td>228,744.43</td>\n",
              "      <td>2,009.49</td>\n",
              "      <td>59.86</td>\n",
              "      <td>0.67</td>\n",
              "      <td>0.72</td>\n",
              "      <td>5.38</td>\n",
              "      <td>-5.51</td>\n",
              "      <td>0.55</td>\n",
              "      <td>0.10</td>\n",
              "      <td>0.13</td>\n",
              "      <td>0.02</td>\n",
              "      <td>0.18</td>\n",
              "      <td>0.55</td>\n",
              "      <td>120.10</td>\n",
              "    </tr>\n",
              "    <tr>\n",
              "      <th>std</th>\n",
              "      <td>39,155.97</td>\n",
              "      <td>5.86</td>\n",
              "      <td>21.35</td>\n",
              "      <td>0.14</td>\n",
              "      <td>0.15</td>\n",
              "      <td>3.62</td>\n",
              "      <td>1.93</td>\n",
              "      <td>0.50</td>\n",
              "      <td>0.10</td>\n",
              "      <td>0.17</td>\n",
              "      <td>0.09</td>\n",
              "      <td>0.14</td>\n",
              "      <td>0.22</td>\n",
              "      <td>26.94</td>\n",
              "    </tr>\n",
              "    <tr>\n",
              "      <th>min</th>\n",
              "      <td>113,000.00</td>\n",
              "      <td>1,998.00</td>\n",
              "      <td>0.00</td>\n",
              "      <td>0.13</td>\n",
              "      <td>0.05</td>\n",
              "      <td>0.00</td>\n",
              "      <td>-20.51</td>\n",
              "      <td>0.00</td>\n",
              "      <td>0.02</td>\n",
              "      <td>0.00</td>\n",
              "      <td>0.00</td>\n",
              "      <td>0.02</td>\n",
              "      <td>0.04</td>\n",
              "      <td>60.02</td>\n",
              "    </tr>\n",
              "    <tr>\n",
              "      <th>25%</th>\n",
              "      <td>203,540.00</td>\n",
              "      <td>2,004.00</td>\n",
              "      <td>56.00</td>\n",
              "      <td>0.58</td>\n",
              "      <td>0.62</td>\n",
              "      <td>2.00</td>\n",
              "      <td>-6.49</td>\n",
              "      <td>0.00</td>\n",
              "      <td>0.04</td>\n",
              "      <td>0.01</td>\n",
              "      <td>0.00</td>\n",
              "      <td>0.09</td>\n",
              "      <td>0.39</td>\n",
              "      <td>98.99</td>\n",
              "    </tr>\n",
              "    <tr>\n",
              "      <th>50%</th>\n",
              "      <td>223,259.50</td>\n",
              "      <td>2,010.00</td>\n",
              "      <td>65.00</td>\n",
              "      <td>0.68</td>\n",
              "      <td>0.74</td>\n",
              "      <td>6.00</td>\n",
              "      <td>-5.29</td>\n",
              "      <td>1.00</td>\n",
              "      <td>0.06</td>\n",
              "      <td>0.06</td>\n",
              "      <td>0.00</td>\n",
              "      <td>0.12</td>\n",
              "      <td>0.56</td>\n",
              "      <td>120.02</td>\n",
              "    </tr>\n",
              "    <tr>\n",
              "      <th>75%</th>\n",
              "      <td>248,133.00</td>\n",
              "      <td>2,015.00</td>\n",
              "      <td>73.00</td>\n",
              "      <td>0.76</td>\n",
              "      <td>0.84</td>\n",
              "      <td>8.00</td>\n",
              "      <td>-4.17</td>\n",
              "      <td>1.00</td>\n",
              "      <td>0.13</td>\n",
              "      <td>0.18</td>\n",
              "      <td>0.00</td>\n",
              "      <td>0.24</td>\n",
              "      <td>0.73</td>\n",
              "      <td>134.19</td>\n",
              "    </tr>\n",
              "    <tr>\n",
              "      <th>max</th>\n",
              "      <td>484,146.00</td>\n",
              "      <td>2,020.00</td>\n",
              "      <td>89.00</td>\n",
              "      <td>0.97</td>\n",
              "      <td>1.00</td>\n",
              "      <td>11.00</td>\n",
              "      <td>-0.28</td>\n",
              "      <td>1.00</td>\n",
              "      <td>0.58</td>\n",
              "      <td>0.98</td>\n",
              "      <td>0.98</td>\n",
              "      <td>0.85</td>\n",
              "      <td>0.97</td>\n",
              "      <td>210.85</td>\n",
              "    </tr>\n",
              "  </tbody>\n",
              "</table>\n",
              "</div>"
            ],
            "text/plain": [
              "      duration_ms      year popularity danceability    energy       key  \\\n",
              "count    1,998.00  2,000.00   1,997.00     1,997.00  2,000.00  2,000.00   \n",
              "mean   228,744.43  2,009.49      59.86         0.67      0.72      5.38   \n",
              "std     39,155.97      5.86      21.35         0.14      0.15      3.62   \n",
              "min    113,000.00  1,998.00       0.00         0.13      0.05      0.00   \n",
              "25%    203,540.00  2,004.00      56.00         0.58      0.62      2.00   \n",
              "50%    223,259.50  2,010.00      65.00         0.68      0.74      6.00   \n",
              "75%    248,133.00  2,015.00      73.00         0.76      0.84      8.00   \n",
              "max    484,146.00  2,020.00      89.00         0.97      1.00     11.00   \n",
              "\n",
              "       loudness      mode speechiness acousticness instrumentalness  liveness  \\\n",
              "count  1,999.00  2,000.00    1,999.00     1,997.00         1,999.00  2,000.00   \n",
              "mean      -5.51      0.55        0.10         0.13             0.02      0.18   \n",
              "std        1.93      0.50        0.10         0.17             0.09      0.14   \n",
              "min      -20.51      0.00        0.02         0.00             0.00      0.02   \n",
              "25%       -6.49      0.00        0.04         0.01             0.00      0.09   \n",
              "50%       -5.29      1.00        0.06         0.06             0.00      0.12   \n",
              "75%       -4.17      1.00        0.13         0.18             0.00      0.24   \n",
              "max       -0.28      1.00        0.58         0.98             0.98      0.85   \n",
              "\n",
              "        valence     tempo  \n",
              "count  1,999.00  1,998.00  \n",
              "mean       0.55    120.10  \n",
              "std        0.22     26.94  \n",
              "min        0.04     60.02  \n",
              "25%        0.39     98.99  \n",
              "50%        0.56    120.02  \n",
              "75%        0.73    134.19  \n",
              "max        0.97    210.85  "
            ]
          },
          "execution_count": 11,
          "metadata": {},
          "output_type": "execute_result"
        }
      ],
      "source": [
        "spotify_df.describe().applymap(lambda x: f\"{x:,.2f}\")"
      ]
    },
    {
      "cell_type": "markdown",
      "id": "91994745-3f64-49cf-8570-eda51c99c501",
      "metadata": {
        "id": "91994745-3f64-49cf-8570-eda51c99c501"
      },
      "source": [
        "Con base en el resumen y el diccionario, e destacan las siguientes características:\n",
        "\n",
        "- Existen variables con valores de 0 a 1, las cuales representan características de las canciones en términos porcentuales. Por ejemplo, la variable `acousticness` con valor de 0.98 indicaría que la canción tiene elementos acústicos a un nivel del 98%.\n",
        "- Resulta curioso que la variable `loudness` tenga valores negativos. La razón es que los decibiles con los que se mide tienen  valores de -60 a 0 decibeles.\n",
        "- La variable `popularity` parece tratarse de una escala de 0 a 100, donde 100 es lo más popular. Esto no aparecía en especificado en el diccionario proveído, por lo que se buscó y encontró la forma en que se construyó la variable en el siguiente enlace: https://count.co/notebook/kGJ3skS05g5.\n",
        "- La variable `key` parece ser una medida de clase de tonos de las canciones. Está construida de forma tal que, por ejemplo, 0 = C, 1 = C♯/D♭, 2 = D, etc. Si no tiene clave detectada, aparece como -1. De esta forma, se deduce que, en realidad, esta variable es de tipo categórica.\n",
        "- Finalmente, no parecen haber distribuciones muy sesgadas, almenos a juzgar por la comparación entre la media y la mediana. Sin embargo, si parecen haber datos atípicos juzgando por la comparación entre el percentil 75 y el máximo.\n",
        "\n",
        "Con base en la revisión, se corrige la variable `key`. Los valores únicos son los siguientes:"
      ]
    },
    {
      "cell_type": "code",
      "execution_count": null,
      "id": "55953362-e5a8-436f-b2cf-0042b76eab2f",
      "metadata": {
        "id": "55953362-e5a8-436f-b2cf-0042b76eab2f",
        "outputId": "4d091636-4b83-42bf-f4af-88a293c3eda8"
      },
      "outputs": [
        {
          "data": {
            "text/plain": [
              "[0.0, 1.0, 2.0, 3.0, 4.0, 5.0, 6.0, 7.0, 8.0, 9.0, 10.0, 11.0]"
            ]
          },
          "execution_count": 12,
          "metadata": {},
          "output_type": "execute_result"
        }
      ],
      "source": [
        "sorted(spotify_df['key'].unique())"
      ]
    },
    {
      "cell_type": "markdown",
      "id": "7382671e-2322-4f1d-84d9-66765ee1563c",
      "metadata": {
        "id": "7382671e-2322-4f1d-84d9-66765ee1563c"
      },
      "source": [
        "Así, la corrección es la siguiente:"
      ]
    },
    {
      "cell_type": "code",
      "execution_count": null,
      "id": "9d37b3e1-8188-49fa-b9d2-520912a2de16",
      "metadata": {
        "id": "9d37b3e1-8188-49fa-b9d2-520912a2de16",
        "outputId": "1ff1beaf-259b-46b2-dd1d-0b0bacedb7ca"
      },
      "outputs": [
        {
          "name": "stdout",
          "output_type": "stream",
          "text": [
            "['C#/Db' 'G#/Ab' 'F' 'F#/Gb' 'G' 'B' 'A#/Bb' 'C' 'E' 'D' 'D#/Eb' 'A']\n"
          ]
        }
      ],
      "source": [
        "spotify_df['key'] = spotify_df['key'].map({\n",
        "    0:'C', 1:'C#/Db', 2:'D', 3:'D#/Eb', 4:'E', 5:'F', 6:'F#/Gb',\n",
        "    7:'G', 8:'G#/Ab', 9:'A', 10:'A#/Bb', 11: 'B'\n",
        "})\n",
        "print(spotify_df['key'].unique())"
      ]
    },
    {
      "cell_type": "markdown",
      "id": "9d372bf4-5666-42d4-b141-a64ec761a32e",
      "metadata": {
        "id": "9d372bf4-5666-42d4-b141-a64ec761a32e"
      },
      "source": [
        "## Punto 2\n",
        "\n",
        "_«¿Cuál es el top 10 de artistas más activos de los últimos 10 años?»_"
      ]
    },
    {
      "cell_type": "markdown",
      "id": "85d24d39-3acf-47f6-aaf1-f2c3cfd3dacd",
      "metadata": {
        "id": "85d24d39-3acf-47f6-aaf1-f2c3cfd3dacd"
      },
      "source": [
        "Para responder la pregunta, se deben hacer las siguientes operaciones:\n",
        "\n",
        "- Filtrar las canciones de los últimos 10 años (2010-2020).\n",
        "- Contar el número de veces que se repite cada artista.\n",
        "\n",
        "De esta forma, se obtiene lo siguiente:"
      ]
    },
    {
      "cell_type": "code",
      "execution_count": null,
      "id": "3d6e65c7-f7da-42f6-95ff-22f615ee82af",
      "metadata": {
        "id": "3d6e65c7-f7da-42f6-95ff-22f615ee82af",
        "outputId": "8870975b-1884-4ece-f63a-4f1139fb4cd1"
      },
      "outputs": [
        {
          "data": {
            "image/png": "[encoded data removed]",
            "text/plain": [
              "<Figure size 720x360 with 1 Axes>"
            ]
          },
          "metadata": {
            "needs_background": "light"
          },
          "output_type": "display_data"
        }
      ],
      "source": [
        "# base filtrada para los años requeridos\n",
        "filtrada = spotify_df[spotify_df['year'] >= 2010]\n",
        "# cálculo de los 5 artistas más activos\n",
        "filtrada = filtrada[['artist']].groupby(['artist'])['artist'] \\\n",
        "                             .count() \\\n",
        "                             .reset_index(name='count') \\\n",
        "                             .sort_values(['count'], ascending=False) \\\n",
        "                             .head(10)\n",
        "# grafica el resultado\n",
        "fig, ax1 = plt.subplots(figsize=(10, 5))\n",
        "filtrada.columns = ['Artista', 'Número de canciones']\n",
        "ax = sns.barplot(x = 'Número de canciones', y = 'Artista',\n",
        "                 data = filtrada, ax = ax1)\n",
        "ax.bar_label(ax.containers[0])\n",
        "sns.despine(fig)"
      ]
    },
    {
      "cell_type": "markdown",
      "id": "28d26ce2-f706-4a73-969b-e2249723c867",
      "metadata": {
        "id": "28d26ce2-f706-4a73-969b-e2249723c867"
      },
      "source": [
        "Así, se puede identificar que los artistas más activos durante los últimos 10 años, es decir, con mayor número de canciones, fueron los siguientes:\n",
        "\n",
        "- **Drake:** cantante, rapero y actor canadiense.\n",
        "- **David Guetta:** DJ y productor musical francés.\n",
        "- **Calvin Harris:** DJ, productor musical y cantautor escocés.\n",
        "- **Ariana Grande:** cantautora y actriz estadounidense.\n",
        "- **Taylor Swift:** cantautora estadounidense.\n",
        "- **Katy Perry:** cantautora y personalidad de televisión estadounidense.\n",
        "- **Rihanna:** cantante, actriz y mujer de negocios estadounidense.\n",
        "- **Jason Derulo:** cantautor estadounidense.\n",
        "- **Bruno Mars:** cantautor, productor, músico, bailarín y director de videos musicales estadounidense.\n",
        "- **Maroon 5:** banda estadounidense de pop rock."
      ]
    },
    {
      "cell_type": "markdown",
      "id": "61c68060-bb2f-40bf-a896-92b415e2c221",
      "metadata": {
        "id": "61c68060-bb2f-40bf-a896-92b415e2c221"
      },
      "source": [
        "## Punto 3\n",
        "\n",
        "_«¿Cómo se diferencian las canciones de los géneros de Latin y Folk/Acoustic en relación con su duración? Halle la diferencia del tiempo promedio de ambos géneros.»_"
      ]
    },
    {
      "cell_type": "markdown",
      "id": "fda39080-827c-4b2c-9d19-e4e26a6e4b5b",
      "metadata": {
        "id": "fda39080-827c-4b2c-9d19-e4e26a6e4b5b"
      },
      "source": [
        "Para responder esta pregunta, se deben identificar los casos en los que por lo menos uno de los géneros del artista sea Latin o Folk/Acoustic. Para poderlo hacer de forma efectiva, esto es, evitando los casos en los cuales la palabra aparece en mayúscula en un caso y en minúscula en otro, se convierten todos los textos de la columna a minúscula:"
      ]
    },
    {
      "cell_type": "code",
      "execution_count": null,
      "id": "7096a264-bed0-438b-bedc-3cb5b6ccef3f",
      "metadata": {
        "id": "7096a264-bed0-438b-bedc-3cb5b6ccef3f"
      },
      "outputs": [],
      "source": [
        "# conversión de textos a minúsculas\n",
        "spotify_df['genre'] = spotify_df['genre'].map(lambda x: x.lower())"
      ]
    },
    {
      "cell_type": "markdown",
      "id": "75d082e9-4567-4be1-ae47-12d7f857924b",
      "metadata": {
        "id": "75d082e9-4567-4be1-ae47-12d7f857924b"
      },
      "source": [
        "Una vez convertido todo a minúscula, se crean variables de identificación para cada género:"
      ]
    },
    {
      "cell_type": "code",
      "execution_count": null,
      "id": "c486d564-9e6c-448f-89b7-2af2b09e1eac",
      "metadata": {
        "id": "c486d564-9e6c-448f-89b7-2af2b09e1eac"
      },
      "outputs": [],
      "source": [
        "# variable para el género latin\n",
        "spotify_df['latin'] = np.where(spotify_df['genre'].str.contains('latin'), 1, 0)\n",
        "# variable para el género folk/acoustic\n",
        "spotify_df['folk/acoustic'] = np.where(spotify_df['genre'].str.contains('folk/acoustic'), 1, 0)"
      ]
    },
    {
      "cell_type": "markdown",
      "id": "fb61a7ce-b148-44e3-abd5-9fd164e38839",
      "metadata": {
        "id": "fb61a7ce-b148-44e3-abd5-9fd164e38839"
      },
      "source": [
        "Verifico si hay casos de canciones con ambos géneros al tiempo:"
      ]
    },
    {
      "cell_type": "code",
      "execution_count": null,
      "id": "38a0f8a2-ac6b-4eb2-a6f8-742c8513b315",
      "metadata": {
        "id": "38a0f8a2-ac6b-4eb2-a6f8-742c8513b315",
        "outputId": "36d6ec1d-812f-469b-b88e-e54e8d8589ee"
      },
      "outputs": [
        {
          "data": {
            "text/plain": [
              "0"
            ]
          },
          "execution_count": 17,
          "metadata": {},
          "output_type": "execute_result"
        }
      ],
      "source": [
        "len(spotify_df[(spotify_df['latin'] == 1) & (spotify_df['folk/acoustic'] == 1)])"
      ]
    },
    {
      "cell_type": "markdown",
      "id": "ca7f000a-cff3-476e-b51c-9a0ddf12c141",
      "metadata": {
        "id": "ca7f000a-cff3-476e-b51c-9a0ddf12c141"
      },
      "source": [
        "Como no hay casos de canciones con ambos géneros, se procede con el código para responder cálcular la diferencia:"
      ]
    },
    {
      "cell_type": "code",
      "execution_count": null,
      "id": "d33232d4-97a9-4bc5-8b46-85ae5a037cc3",
      "metadata": {
        "id": "d33232d4-97a9-4bc5-8b46-85ae5a037cc3",
        "outputId": "f96d6e5d-e9e0-4f6d-93ff-557e313f9cee"
      },
      "outputs": [
        {
          "name": "stdout",
          "output_type": "stream",
          "text": [
            "Tiempo promedio de Latin: 227,675 milisegundos\n",
            "Tiempo promedio de Folk/Acoustic: 220,184 milisegundos\n",
            "Diferencia: 7,491 milisegundos\n"
          ]
        }
      ],
      "source": [
        "lat = np.mean(spotify_df[spotify_df['latin'] == 1]['duration_ms'])\n",
        "fa = np.mean(spotify_df[spotify_df['folk/acoustic'] == 1]['duration_ms'])\n",
        "print(f'Tiempo promedio de Latin: {lat:,.0f} milisegundos')\n",
        "print(f'Tiempo promedio de Folk/Acoustic: {fa:,.0f} milisegundos')\n",
        "print(f'Diferencia: {abs(lat - fa):,.0f} milisegundos')"
      ]
    },
    {
      "cell_type": "markdown",
      "id": "898a33db-cb5d-4041-b272-6af9c851491d",
      "metadata": {
        "id": "898a33db-cb5d-4041-b272-6af9c851491d"
      },
      "source": [
        "Entonces, podemos afirmar que, en promedio, las canciones del género Latin son más extensas que las del género Folk/Acoustic por casi 7,500 milisegundos.\n",
        "\n",
        "De forma gráfica, se puede realizar la comparación de las distribuciones:"
      ]
    },
    {
      "cell_type": "code",
      "execution_count": null,
      "id": "9cbfed80-1a2d-4fc3-acad-131e6cb6898f",
      "metadata": {
        "id": "9cbfed80-1a2d-4fc3-acad-131e6cb6898f",
        "outputId": "fe5a9126-c09e-4825-de7a-e3e1ae4db412"
      },
      "outputs": [
        {
          "data": {
            "image/png": "[encoded data removed]",
            "text/plain": [
              "<Figure size 432x360 with 1 Axes>"
            ]
          },
          "metadata": {
            "needs_background": "light"
          },
          "output_type": "display_data"
        }
      ],
      "source": [
        "genero1 = spotify_df[spotify_df['latin'] == 1][['duration_ms']]\n",
        "genero1['Género'] = 'Latin'\n",
        "genero2 = spotify_df[spotify_df['folk/acoustic'] == 1][['duration_ms']]\n",
        "genero2['Género'] = 'Folk/Acoustic'\n",
        "generos = pd.concat([genero1,genero2], ignore_index=True)\n",
        "generos['Duración (milisegundos)'] = generos['duration_ms']\n",
        "fig, ax1 = plt.subplots(figsize=(6, 5))\n",
        "ax = sns.boxplot(x='Género', y='Duración (milisegundos)',\n",
        "                 data=generos, ax=ax1, showmeans=True,\n",
        "            meanprops={\"marker\":\"s\",\"markerfacecolor\":\"white\",\n",
        "                       \"markeredgecolor\":\"blue\"})"
      ]
    },
    {
      "cell_type": "markdown",
      "id": "c227c558-f83d-449a-8309-6c1c454589e5",
      "metadata": {
        "id": "c227c558-f83d-449a-8309-6c1c454589e5"
      },
      "source": [
        "Se observa que las distribuciones se parecen, aunque el género `Latin` tiene casos atípicos de canciones de duración más alarga. Adicionalmente, se grafica el promedio y, tal como se calculó, se ve que mayor el de `Latin`."
      ]
    },
    {
      "cell_type": "markdown",
      "id": "a57d39cf-f73d-432f-9917-449aa0576df0",
      "metadata": {
        "id": "a57d39cf-f73d-432f-9917-449aa0576df0"
      },
      "source": [
        "## Punto 4\n",
        "\n",
        "_«Halle el top 5 de los géneros del 2019 según la cantidad de canciones. ¿Cómo ha variado la cantidad de canciones del Top de géneros en los años 2000, 2005, 2010, 2015, 2019?»_"
      ]
    },
    {
      "cell_type": "markdown",
      "id": "0b6f5ee2-bdba-47de-99b3-440759baeabc",
      "metadata": {
        "id": "0b6f5ee2-bdba-47de-99b3-440759baeabc"
      },
      "source": [
        "Para responder esta pregunta, se requiere realizar un tratamiento adicional de la variable `genre`. Se escogió generar una columna identificadora por género. Para poderlo hacer, se inició con la identificación de casos únicos:"
      ]
    },
    {
      "cell_type": "code",
      "execution_count": null,
      "id": "23064c20-6dbc-4864-a44a-4a37f023dd0d",
      "metadata": {
        "id": "23064c20-6dbc-4864-a44a-4a37f023dd0d",
        "outputId": "d3d3ade6-08b5-4a73-9b9a-fd5cf1dbf18a"
      },
      "outputs": [
        {
          "name": "stdout",
          "output_type": "stream",
          "text": [
            "pop\n",
            "hip hop\n",
            "dance/electronic\n",
            "metal\n",
            "r&b\n",
            "rock\n",
            "latin\n",
            "country\n",
            "easy listening\n",
            "folk/acoustic\n",
            "world/traditional\n",
            "blues\n",
            "classical\n",
            "jazz\n"
          ]
        }
      ],
      "source": [
        "# separación de la variable a partir del delimitador generado\n",
        "generos = spotify_df['genre'].str.split('|', expand=True)\n",
        "# todos los géneros en una columna y generación de casos únicos\n",
        "generos = pd.concat([generos[0],generos[1],generos[2],generos[3]],axis=0).unique()\n",
        "# eliminación de géneros que no aportan\n",
        "generos = generos[generos != \"\"]\n",
        "generos = generos[generos != None]\n",
        "# impresión de los géneros encontrados\n",
        "for k in generos:\n",
        "    print(k)"
      ]
    },
    {
      "cell_type": "markdown",
      "id": "1fb9c708-fa82-46a2-b7ec-5a905004af88",
      "metadata": {
        "id": "1fb9c708-fa82-46a2-b7ec-5a905004af88"
      },
      "source": [
        "A partir de los géneros identificados, se generan las columnas:"
      ]
    },
    {
      "cell_type": "code",
      "execution_count": null,
      "id": "3613602c-ac29-4dda-ae2c-0cbda1958d94",
      "metadata": {
        "id": "3613602c-ac29-4dda-ae2c-0cbda1958d94",
        "outputId": "ae5a1f4c-dfe0-4f28-ad31-82bcdf1bce04"
      },
      "outputs": [
        {
          "name": "stdout",
          "output_type": "stream",
          "text": [
            "pop\n",
            "hip hop\n",
            "dance/electronic\n",
            "metal\n",
            "r&b\n",
            "rock\n",
            "latin\n",
            "country\n",
            "easy listening\n",
            "folk/acoustic\n",
            "world/traditional\n",
            "blues\n",
            "classical\n",
            "jazz\n"
          ]
        },
        {
          "data": {
            "text/html": [
              "<div>\n",
              "<style scoped>\n",
              "    .dataframe tbody tr th:only-of-type {\n",
              "        vertical-align: middle;\n",
              "    }\n",
              "\n",
              "    .dataframe tbody tr th {\n",
              "        vertical-align: top;\n",
              "    }\n",
              "\n",
              "    .dataframe thead th {\n",
              "        text-align: right;\n",
              "    }\n",
              "</style>\n",
              "<table border=\"1\" class=\"dataframe\">\n",
              "  <thead>\n",
              "    <tr style=\"text-align: right;\">\n",
              "      <th></th>\n",
              "      <th>pop</th>\n",
              "      <th>hip hop</th>\n",
              "      <th>dance/electronic</th>\n",
              "      <th>metal</th>\n",
              "      <th>r&amp;b</th>\n",
              "      <th>rock</th>\n",
              "      <th>latin</th>\n",
              "      <th>country</th>\n",
              "      <th>easy listening</th>\n",
              "      <th>folk/acoustic</th>\n",
              "      <th>world/traditional</th>\n",
              "      <th>blues</th>\n",
              "      <th>classical</th>\n",
              "      <th>jazz</th>\n",
              "    </tr>\n",
              "  </thead>\n",
              "  <tbody>\n",
              "    <tr>\n",
              "      <th>0</th>\n",
              "      <td>1</td>\n",
              "      <td>0</td>\n",
              "      <td>0</td>\n",
              "      <td>0</td>\n",
              "      <td>0</td>\n",
              "      <td>0</td>\n",
              "      <td>0</td>\n",
              "      <td>0</td>\n",
              "      <td>0</td>\n",
              "      <td>0</td>\n",
              "      <td>0</td>\n",
              "      <td>0</td>\n",
              "      <td>0</td>\n",
              "      <td>0</td>\n",
              "    </tr>\n",
              "    <tr>\n",
              "      <th>1</th>\n",
              "      <td>1</td>\n",
              "      <td>0</td>\n",
              "      <td>0</td>\n",
              "      <td>0</td>\n",
              "      <td>0</td>\n",
              "      <td>0</td>\n",
              "      <td>0</td>\n",
              "      <td>0</td>\n",
              "      <td>0</td>\n",
              "      <td>0</td>\n",
              "      <td>0</td>\n",
              "      <td>0</td>\n",
              "      <td>0</td>\n",
              "      <td>0</td>\n",
              "    </tr>\n",
              "    <tr>\n",
              "      <th>2</th>\n",
              "      <td>0</td>\n",
              "      <td>1</td>\n",
              "      <td>0</td>\n",
              "      <td>0</td>\n",
              "      <td>0</td>\n",
              "      <td>0</td>\n",
              "      <td>0</td>\n",
              "      <td>0</td>\n",
              "      <td>0</td>\n",
              "      <td>0</td>\n",
              "      <td>0</td>\n",
              "      <td>0</td>\n",
              "      <td>0</td>\n",
              "      <td>0</td>\n",
              "    </tr>\n",
              "    <tr>\n",
              "      <th>3</th>\n",
              "      <td>0</td>\n",
              "      <td>0</td>\n",
              "      <td>1</td>\n",
              "      <td>0</td>\n",
              "      <td>0</td>\n",
              "      <td>0</td>\n",
              "      <td>0</td>\n",
              "      <td>0</td>\n",
              "      <td>0</td>\n",
              "      <td>0</td>\n",
              "      <td>0</td>\n",
              "      <td>0</td>\n",
              "      <td>0</td>\n",
              "      <td>0</td>\n",
              "    </tr>\n",
              "    <tr>\n",
              "      <th>4</th>\n",
              "      <td>1</td>\n",
              "      <td>0</td>\n",
              "      <td>0</td>\n",
              "      <td>0</td>\n",
              "      <td>0</td>\n",
              "      <td>0</td>\n",
              "      <td>0</td>\n",
              "      <td>0</td>\n",
              "      <td>0</td>\n",
              "      <td>0</td>\n",
              "      <td>0</td>\n",
              "      <td>0</td>\n",
              "      <td>0</td>\n",
              "      <td>0</td>\n",
              "    </tr>\n",
              "  </tbody>\n",
              "</table>\n",
              "</div>"
            ],
            "text/plain": [
              "   pop  hip hop  dance/electronic  metal  r&b  rock  latin  country  \\\n",
              "0    1        0                 0      0    0     0      0        0   \n",
              "1    1        0                 0      0    0     0      0        0   \n",
              "2    0        1                 0      0    0     0      0        0   \n",
              "3    0        0                 1      0    0     0      0        0   \n",
              "4    1        0                 0      0    0     0      0        0   \n",
              "\n",
              "   easy listening  folk/acoustic  world/traditional  blues  classical  jazz  \n",
              "0               0              0                  0      0          0     0  \n",
              "1               0              0                  0      0          0     0  \n",
              "2               0              0                  0      0          0     0  \n",
              "3               0              0                  0      0          0     0  \n",
              "4               0              0                  0      0          0     0  "
            ]
          },
          "execution_count": 21,
          "metadata": {},
          "output_type": "execute_result"
        }
      ],
      "source": [
        "for k in generos:\n",
        "    print(k)\n",
        "    spotify_df[k] = np.where(spotify_df['genre'].str.contains(k), 1, 0)\n",
        "spotify_df[generos].head()"
      ]
    },
    {
      "cell_type": "markdown",
      "id": "8d1aacad-8e32-4d13-940a-013e666a6b25",
      "metadata": {
        "id": "8d1aacad-8e32-4d13-940a-013e666a6b25"
      },
      "source": [
        "Así, se realiza la suma de cada una de las variables generadas y se filtran los mayores valores:"
      ]
    },
    {
      "cell_type": "code",
      "execution_count": null,
      "id": "49712716-f4d5-4530-9102-1b811fb3686a",
      "metadata": {
        "id": "49712716-f4d5-4530-9102-1b811fb3686a",
        "outputId": "0a11efda-ee7f-465e-93f3-bfd32cec96e2"
      },
      "outputs": [
        {
          "data": {
            "text/html": [
              "<div>\n",
              "<style scoped>\n",
              "    .dataframe tbody tr th:only-of-type {\n",
              "        vertical-align: middle;\n",
              "    }\n",
              "\n",
              "    .dataframe tbody tr th {\n",
              "        vertical-align: top;\n",
              "    }\n",
              "\n",
              "    .dataframe thead th {\n",
              "        text-align: right;\n",
              "    }\n",
              "</style>\n",
              "<table border=\"1\" class=\"dataframe\">\n",
              "  <thead>\n",
              "    <tr style=\"text-align: right;\">\n",
              "      <th></th>\n",
              "      <th>index</th>\n",
              "      <th>count</th>\n",
              "    </tr>\n",
              "  </thead>\n",
              "  <tbody>\n",
              "    <tr>\n",
              "      <th>0</th>\n",
              "      <td>pop</td>\n",
              "      <td>63</td>\n",
              "    </tr>\n",
              "    <tr>\n",
              "      <th>1</th>\n",
              "      <td>hip hop</td>\n",
              "      <td>38</td>\n",
              "    </tr>\n",
              "    <tr>\n",
              "      <th>2</th>\n",
              "      <td>dance/electronic</td>\n",
              "      <td>21</td>\n",
              "    </tr>\n",
              "    <tr>\n",
              "      <th>4</th>\n",
              "      <td>r&amp;b</td>\n",
              "      <td>9</td>\n",
              "    </tr>\n",
              "    <tr>\n",
              "      <th>6</th>\n",
              "      <td>latin</td>\n",
              "      <td>8</td>\n",
              "    </tr>\n",
              "  </tbody>\n",
              "</table>\n",
              "</div>"
            ],
            "text/plain": [
              "              index  count\n",
              "0               pop     63\n",
              "1           hip hop     38\n",
              "2  dance/electronic     21\n",
              "4               r&b      9\n",
              "6             latin      8"
            ]
          },
          "execution_count": 22,
          "metadata": {},
          "output_type": "execute_result"
        }
      ],
      "source": [
        "filtrada = spotify_df[spotify_df['year'] == 2019]\n",
        "filtrada[generos].sum()\\\n",
        "                   .reset_index(name='count') \\\n",
        "                   .sort_values(['count'], ascending=False) \\\n",
        "                   .head(5)"
      ]
    },
    {
      "cell_type": "markdown",
      "id": "681af57d-2296-4299-9822-cd5f9e19d412",
      "metadata": {
        "id": "681af57d-2296-4299-9822-cd5f9e19d412"
      },
      "source": [
        "Por lo tanto, el top 5 de los géneros del 2019 según la cantidad de canciones fue el siguiente:\n",
        "1. Pop.\n",
        "2. Hip hop.\n",
        "3. Dance/electronic.\n",
        "4. R&B.\n",
        "5. Latin.\n",
        "\n",
        "A continuación, se revisan las cantidades de canciones para estos géneros durante los años 2000, 2005, 2010, 2015 y 2019. Para esto, se suman las columnas agrupadas por año:"
      ]
    },
    {
      "cell_type": "code",
      "execution_count": null,
      "id": "1ad91856-cd85-4f8d-85e1-9a4380fd4def",
      "metadata": {
        "id": "1ad91856-cd85-4f8d-85e1-9a4380fd4def",
        "outputId": "282e54b8-326a-4d98-d602-a1d96666f2ee"
      },
      "outputs": [
        {
          "data": {
            "text/html": [
              "<div>\n",
              "<style scoped>\n",
              "    .dataframe tbody tr th:only-of-type {\n",
              "        vertical-align: middle;\n",
              "    }\n",
              "\n",
              "    .dataframe tbody tr th {\n",
              "        vertical-align: top;\n",
              "    }\n",
              "\n",
              "    .dataframe thead th {\n",
              "        text-align: right;\n",
              "    }\n",
              "</style>\n",
              "<table border=\"1\" class=\"dataframe\">\n",
              "  <thead>\n",
              "    <tr style=\"text-align: right;\">\n",
              "      <th></th>\n",
              "      <th>year</th>\n",
              "      <th>pop</th>\n",
              "      <th>hip hop</th>\n",
              "      <th>dance/electronic</th>\n",
              "      <th>r&amp;b</th>\n",
              "      <th>latin</th>\n",
              "    </tr>\n",
              "  </thead>\n",
              "  <tbody>\n",
              "    <tr>\n",
              "      <th>0</th>\n",
              "      <td>2000.0</td>\n",
              "      <td>57</td>\n",
              "      <td>21</td>\n",
              "      <td>5</td>\n",
              "      <td>25</td>\n",
              "      <td>3</td>\n",
              "    </tr>\n",
              "    <tr>\n",
              "      <th>1</th>\n",
              "      <td>2005.0</td>\n",
              "      <td>81</td>\n",
              "      <td>51</td>\n",
              "      <td>5</td>\n",
              "      <td>31</td>\n",
              "      <td>3</td>\n",
              "    </tr>\n",
              "    <tr>\n",
              "      <th>2</th>\n",
              "      <td>2010.0</td>\n",
              "      <td>97</td>\n",
              "      <td>54</td>\n",
              "      <td>28</td>\n",
              "      <td>23</td>\n",
              "      <td>2</td>\n",
              "    </tr>\n",
              "    <tr>\n",
              "      <th>3</th>\n",
              "      <td>2015.0</td>\n",
              "      <td>89</td>\n",
              "      <td>33</td>\n",
              "      <td>28</td>\n",
              "      <td>21</td>\n",
              "      <td>0</td>\n",
              "    </tr>\n",
              "    <tr>\n",
              "      <th>4</th>\n",
              "      <td>2019.0</td>\n",
              "      <td>63</td>\n",
              "      <td>38</td>\n",
              "      <td>21</td>\n",
              "      <td>9</td>\n",
              "      <td>8</td>\n",
              "    </tr>\n",
              "  </tbody>\n",
              "</table>\n",
              "</div>"
            ],
            "text/plain": [
              "     year  pop  hip hop  dance/electronic  r&b  latin\n",
              "0  2000.0   57       21                 5   25      3\n",
              "1  2005.0   81       51                 5   31      3\n",
              "2  2010.0   97       54                28   23      2\n",
              "3  2015.0   89       33                28   21      0\n",
              "4  2019.0   63       38                21    9      8"
            ]
          },
          "execution_count": 23,
          "metadata": {},
          "output_type": "execute_result"
        }
      ],
      "source": [
        "top = ['pop','hip hop', 'dance/electronic', 'r&b', 'latin']\n",
        "filtrada = spotify_df.loc[spotify_df['year'].isin([2000, 2005, 2010, 2015,2019])]\n",
        "sumas = filtrada.groupby(['year'], as_index = False)[top].apply(lambda x : x.astype(int).sum())\n",
        "sumas"
      ]
    },
    {
      "cell_type": "markdown",
      "id": "e4e212b7-36e1-45d1-a186-3f570904f836",
      "metadata": {
        "id": "e4e212b7-36e1-45d1-a186-3f570904f836"
      },
      "source": [
        "Para visualizar mejor el resultado, realizo la gráfica:"
      ]
    },
    {
      "cell_type": "code",
      "execution_count": null,
      "id": "25ca14e6-e727-460f-a5ca-59b00ce9f324",
      "metadata": {
        "id": "25ca14e6-e727-460f-a5ca-59b00ce9f324",
        "outputId": "52baf3cc-454f-43af-b2d9-46c42db76384"
      },
      "outputs": [
        {
          "data": {
            "image/png": "[encoded data removed]",
            "text/plain": [
              "<Figure size 720x360 with 1 Axes>"
            ]
          },
          "metadata": {
            "needs_background": "light"
          },
          "output_type": "display_data"
        }
      ],
      "source": [
        "fig, ax1 = plt.subplots(figsize=(10, 5))\n",
        "tidy = sumas.melt(id_vars='year').rename(columns=str.title)\n",
        "tidy.columns = ['Año', 'Género', 'Número de canciones']\n",
        "tidy['Género'] = tidy['Género'].replace(\n",
        "    ['pop', 'hip hop', 'dance/electronic', 'r&b', 'latin'],\n",
        "    ['Pop', 'Hip hop', 'Dance/electronic', 'R&B', 'Latin']\n",
        ")\n",
        "tidy['Año'] = tidy['Año'].astype(int)\n",
        "ax = sns.barplot(x='Año', y='Número de canciones',\n",
        "                 hue='Género', data=tidy, ax=ax1)\n",
        "sns.despine(fig) "
      ]
    },
    {
      "cell_type": "markdown",
      "id": "ae46851d-466f-4616-8350-5c2f4307c023",
      "metadata": {
        "id": "ae46851d-466f-4616-8350-5c2f4307c023"
      },
      "source": [
        "Se evidencia que para todos los años, el género pop tuvo la mayor cantidad de canciones. En muchos casos el orden entre géneros es similar, con el hip hop siguiendo al pop, y así siguiendo con dance/electronic, R&B y Latin. Este orden fue diferente para los años 2000 y 2005."
      ]
    },
    {
      "cell_type": "markdown",
      "id": "0215cb79-1544-42ae-8413-b5de693259ea",
      "metadata": {
        "id": "0215cb79-1544-42ae-8413-b5de693259ea"
      },
      "source": [
        "## Punto 5\n",
        "\n",
        "_«¿Cómo ha sido la progresión de nuevos artistas? Asuma que un artista nuevo es aquel del cual no se tiene registros pasados y solo es nuevo durante el primer año de aparición.»_"
      ]
    },
    {
      "cell_type": "markdown",
      "id": "cc50d7e3-6088-4b8c-8189-159949a78782",
      "metadata": {
        "id": "cc50d7e3-6088-4b8c-8189-159949a78782"
      },
      "source": [
        "Se elabora el gráfico de línea que permite ver la serie de nuevos artistas de acuerdo al criterio asumido:"
      ]
    },
    {
      "cell_type": "code",
      "execution_count": null,
      "id": "e7776791-1f05-4f5f-b264-4067d17238b3",
      "metadata": {
        "id": "e7776791-1f05-4f5f-b264-4067d17238b3",
        "outputId": "d7f53c65-1f71-481b-a1f1-b63bbf415b98"
      },
      "outputs": [
        {
          "data": {
            "image/png": "[encoded data removed]",
            "text/plain": [
              "<Figure size 504x360 with 1 Axes>"
            ]
          },
          "metadata": {
            "needs_background": "light"
          },
          "output_type": "display_data"
        }
      ],
      "source": [
        "nuevos_artistas = pd.DataFrame({'artist' : [], 'year': []})\n",
        "for k in spotify_df['artist'].unique():\n",
        "    nuevos_artistas1 = spotify_df[['artist','year']]\n",
        "    nuevos_artistas1 = nuevos_artistas1[\n",
        "        nuevos_artistas1['artist'] == k\n",
        "    ]\n",
        "    nuevos_artistas1 = nuevos_artistas1[\n",
        "        nuevos_artistas1['year'] == min(nuevos_artistas1['year'])\n",
        "    ]\n",
        "    nuevos_artistas = pd.concat([nuevos_artistas,nuevos_artistas1], ignore_index=True)\n",
        "nuevos_artistas = nuevos_artistas.drop_duplicates()\n",
        "progresion = nuevos_artistas.groupby(['year'])['artist'] \\\n",
        "                             .count() \\\n",
        "                             .reset_index(name='count')\n",
        "progresion['Año'] = progresion['year'].astype(int)\n",
        "progresion['Número de artistas nuevos'] = progresion['count']\n",
        "fig, ax1 = plt.subplots(figsize=(7, 5))\n",
        "sns.set_theme(style=\"darkgrid\")\n",
        "ax = sns.lineplot(x='Año', y='Número de artistas nuevos',\n",
        "             data=progresion, marker='o', axes = ax1)\n",
        "ax.set_xticks(range(1998,2021))\n",
        "plt.xticks(rotation=90)\n",
        "sns.despine(fig)"
      ]
    },
    {
      "cell_type": "markdown",
      "id": "80ffbc52-e5e9-4f22-8291-2a66f4bf6586",
      "metadata": {
        "id": "80ffbc52-e5e9-4f22-8291-2a66f4bf6586"
      },
      "source": [
        "Se observa cómo el número de artistas nuevos se incrementó de forma continua hasta 2001, luego de lo cual disminuyeron en 2002 para pasar a tener un comportamiento un poco más estacionario. Para 2020 este valor disminuyó radicalmente, lo que hace pensar que el conjunto de datos tiene datos parciales para 2020."
      ]
    },
    {
      "cell_type": "markdown",
      "id": "2b12d82d-df08-4b8c-b867-338f83798a14",
      "metadata": {
        "id": "2b12d82d-df08-4b8c-b867-338f83798a14"
      },
      "source": [
        "## Punto 6\n",
        "\n",
        "_«Grafique la progresión de la popularidad promedio por género y por año. Concluya sobre la gráfica, ej: ¿existen tendencias?»_"
      ]
    },
    {
      "cell_type": "markdown",
      "id": "cda4bd3a-e257-45a1-9265-1010a2b3192f",
      "metadata": {
        "id": "cda4bd3a-e257-45a1-9265-1010a2b3192f"
      },
      "source": [
        "Debido a dificultades para visualizar, solo se hace la visualización de los 5 géneros con más canciones:"
      ]
    },
    {
      "cell_type": "code",
      "execution_count": null,
      "id": "e4dc1a29-d3e8-407a-a362-12ec2e0b54b3",
      "metadata": {
        "id": "e4dc1a29-d3e8-407a-a362-12ec2e0b54b3",
        "outputId": "e6465489-9760-4eb5-d8eb-ba9859150a17"
      },
      "outputs": [
        {
          "data": {
            "image/png": "[encoded data removed]",
            "text/plain": [
              "<Figure size 1440x360 with 1 Axes>"
            ]
          },
          "metadata": {},
          "output_type": "display_data"
        }
      ],
      "source": [
        "spotify_df['year'] = spotify_df['year'].astype(int)\n",
        "popu = pd.DataFrame({'Promedio' : [], 'Género': [], 'Año': []})\n",
        "generos_escogidos = spotify_df[generos].sum()\\\n",
        "                   .reset_index(name='count') \\\n",
        "                   .sort_values(['count'], ascending=False) \\\n",
        "                   .head(5)\n",
        "generos_escogidos = generos_escogidos['index']\n",
        "for k in generos_escogidos:\n",
        "    for t in range(1998, 2021):\n",
        "        popu1 = spotify_df[(spotify_df[k] == 1) & (spotify_df['year'] == t)].groupby(k)['popularity'].mean() \\\n",
        "                                              .reset_index(name='Promedio')\n",
        "        popu1['Género'] = k\n",
        "        popu1['Año'] = t\n",
        "        popu1.drop(k, axis = 1, inplace=True)\n",
        "        popu = pd.concat([popu,popu1], ignore_index=True)\n",
        "fig, ax1 = plt.subplots(figsize=(20, 5))\n",
        "popu['Año'] = popu['Año'].astype(int)\n",
        "ax = sns.lineplot(x='Año', y='Promedio',\n",
        "                 hue='Género', data=popu, ax=ax1)\n",
        "ax.set_xticks(range(1998,2021))\n",
        "plt.xticks(rotation=90)\n",
        "sns.despine(fig)"
      ]
    },
    {
      "cell_type": "markdown",
      "id": "6660ce04-e78d-4c5c-9a77-044de0cdb243",
      "metadata": {
        "id": "6660ce04-e78d-4c5c-9a77-044de0cdb243"
      },
      "source": [
        "Lo que se observa es que, exceptuando por algunos casos concretos como el salto del rock en 2013 y su caída en 2017, no se obseva una tendencia clara pues casi todas las series son estacionarias. Sin embargo, se observa una caída que deber ser provocada, como se mencionó antes, por la poca cantidad de datos para 2020."
      ]
    },
    {
      "cell_type": "markdown",
      "id": "fe79dd02-a01b-4f53-8895-84afd94346af",
      "metadata": {
        "id": "fe79dd02-a01b-4f53-8895-84afd94346af"
      },
      "source": [
        "## Punto 7\n",
        "\n",
        "_«Compare los géneros Pop y Rock según sus características de: energy, valence y tempo. Concluya sobre su análisis.»_"
      ]
    },
    {
      "cell_type": "markdown",
      "id": "54b5a3eb-46e4-406f-bb35-28c658af2e58",
      "metadata": {
        "id": "54b5a3eb-46e4-406f-bb35-28c658af2e58"
      },
      "source": [
        "Para comparar las características requeridas de los géneros pop y rock, se grafican los diagramas de caja de cada una diferenciada por género:"
      ]
    },
    {
      "cell_type": "code",
      "execution_count": null,
      "id": "b2baae23-e52c-4619-8381-a56903a3bca6",
      "metadata": {
        "id": "b2baae23-e52c-4619-8381-a56903a3bca6",
        "outputId": "7d30634e-fd28-4256-d563-19a20dc78e5a"
      },
      "outputs": [
        {
          "data": {
            "image/png": "[encoded data removed]",
            "text/plain": [
              "<Figure size 1080x360 with 3 Axes>"
            ]
          },
          "metadata": {},
          "output_type": "display_data"
        }
      ],
      "source": [
        "figure, axis = plt.subplots(1, 3, figsize=(15, 5))\n",
        "genero1 = spotify_df[spotify_df['rock'] == 1][[\n",
        "    'energy', 'valence', 'tempo'\n",
        "]]\n",
        "genero1['Género'] = 'Rock'\n",
        "genero2 = spotify_df[spotify_df['pop'] == 1][[\n",
        "    'energy', 'valence', 'tempo'\n",
        "]]\n",
        "genero2['Género'] = 'Pop'\n",
        "generos = pd.concat([genero1,genero2], ignore_index=True)\n",
        "generos['Energía'] = generos['energy']\n",
        "generos['Positividad'] = generos['valence']\n",
        "generos['Tempo'] = generos['tempo']\n",
        "\n",
        "#sns.boxplot(ax=axes[0, 0], data=iris, x='species', y='petal_width')\n",
        "sns.boxplot(x='Género', y='Energía',\n",
        "                 data=generos, ax=axis[0], showmeans=True,\n",
        "            meanprops={\"marker\":\"s\",\"markerfacecolor\":\"white\",\n",
        "                       \"markeredgecolor\":\"blue\"})\n",
        "sns.boxplot(x='Género', y='Positividad',\n",
        "                 data=generos, ax=axis[1], showmeans=True,\n",
        "            meanprops={\"marker\":\"s\",\"markerfacecolor\":\"white\",\n",
        "                       \"markeredgecolor\":\"blue\"})\n",
        "sns.boxplot(x='Género', y='Tempo',\n",
        "                 data=generos, ax=axis[2], showmeans=True,\n",
        "            meanprops={\"marker\":\"s\",\"markerfacecolor\":\"white\",\n",
        "                       \"markeredgecolor\":\"blue\"})\n",
        "axis[0].set_title('Energía')\n",
        "axis[1].set_title('Positividad')\n",
        "axis[2].set_title('Tempo')\n",
        "sns.despine(fig)"
      ]
    },
    {
      "cell_type": "markdown",
      "id": "6a1e7629-d218-425f-9ce3-b069eb5f5eee",
      "metadata": {
        "id": "6a1e7629-d218-425f-9ce3-b069eb5f5eee"
      },
      "source": [
        "De esta forma, se observa lo siguiente:\n",
        "- El género rock tiene, en general, canciones más enérgicas. Por esta razón, el promedio es mayor y la distribución de la variable para el género está sesgada a valores más altos, por encima del 0.4 la mayor parte de las veces. El pop, por su parte, aunque también abarca estos valores, tiene un sesgo menos marcado y sus canciones cubren valores más amplios, llegando a tener unos cuantos casos atípicos de canciones poco enérgicas.\n",
        "- La positividad (`valence`) para ambos géneros es bastante similar, mostrando en ambos casos una distribución bastante simétrica y sin valores atípicos. No obstante, el promedio para pop es mayor.\n",
        "- El tempo de las canciones de rock es, en general, más alto que el de las canciones de pop. En el caso de este segundo género, de hecho, las canciones con tempo más alto son consideradas atípicas. Se observa un sesgo hacia los valores más bajos, mientras que el tempo del rock tiende a ser un poco más simétrico en comparación. Lo anterior se refleja en un promedio más alto para el rock."
      ]
    },
    {
      "cell_type": "markdown",
      "id": "c709ec71-49da-488f-95de-a34792d16c5e",
      "metadata": {
        "tags": [],
        "id": "c709ec71-49da-488f-95de-a34792d16c5e"
      },
      "source": [
        "## Punto 8\n",
        "\n",
        "_«Plantee una pregunta de negocio de su interés, ya sea por tipo de música, artistas u otra dimensión, mediante la cual se analicen al menos 3 variables del dataset y concluya.»_"
      ]
    },
    {
      "cell_type": "markdown",
      "id": "8fc7b837-81be-446d-b06a-9962b4321060",
      "metadata": {
        "id": "8fc7b837-81be-446d-b06a-9962b4321060"
      },
      "source": [
        "Una pregunta de interés personal es si es posible caracterizar una canción tipica de un género a partir de variables como la clave, el modo y el tempo más tipico de las canciones. Para responderla, se elige hacer el análisis con los siguientes géneros: metal, hip hop, dance/electronica y folk/acoustic.\n",
        "\n",
        "Antes de hacer el análisis, se hace una transformación de la variable modo:"
      ]
    },
    {
      "cell_type": "code",
      "execution_count": null,
      "id": "0b360e05-324e-4cb6-9bff-b9b2ef427fad",
      "metadata": {
        "id": "0b360e05-324e-4cb6-9bff-b9b2ef427fad"
      },
      "outputs": [],
      "source": [
        "spotify_df['mode'] = spotify_df['mode'].map({\n",
        "    0:'Menor', 1:'Mayor'\n",
        "})"
      ]
    },
    {
      "cell_type": "markdown",
      "id": "e3865a24-5c93-4e1c-8e87-f2defe13eaca",
      "metadata": {
        "id": "e3865a24-5c93-4e1c-8e87-f2defe13eaca"
      },
      "source": [
        "El cuadro que permite responder la pregunta se genera a continuación:"
      ]
    },
    {
      "cell_type": "code",
      "execution_count": null,
      "id": "4d999373-29df-4b8e-9d30-a83a23c40a56",
      "metadata": {
        "id": "4d999373-29df-4b8e-9d30-a83a23c40a56",
        "outputId": "6cc818cb-c212-476d-a217-faf283cca99d"
      },
      "outputs": [
        {
          "data": {
            "text/html": [
              "<div>\n",
              "<style scoped>\n",
              "    .dataframe tbody tr th:only-of-type {\n",
              "        vertical-align: middle;\n",
              "    }\n",
              "\n",
              "    .dataframe tbody tr th {\n",
              "        vertical-align: top;\n",
              "    }\n",
              "\n",
              "    .dataframe thead th {\n",
              "        text-align: right;\n",
              "    }\n",
              "</style>\n",
              "<table border=\"1\" class=\"dataframe\">\n",
              "  <thead>\n",
              "    <tr style=\"text-align: right;\">\n",
              "      <th></th>\n",
              "      <th>Género</th>\n",
              "      <th>Clave</th>\n",
              "      <th>Tempo</th>\n",
              "      <th>Modo</th>\n",
              "    </tr>\n",
              "  </thead>\n",
              "  <tbody>\n",
              "    <tr>\n",
              "      <th>0</th>\n",
              "      <td>Metal</td>\n",
              "      <td>E</td>\n",
              "      <td>124.612136</td>\n",
              "      <td>Mayor</td>\n",
              "    </tr>\n",
              "    <tr>\n",
              "      <th>1</th>\n",
              "      <td>Hip hop</td>\n",
              "      <td>C#/Db</td>\n",
              "      <td>117.998067</td>\n",
              "      <td>Mayor</td>\n",
              "    </tr>\n",
              "    <tr>\n",
              "      <th>2</th>\n",
              "      <td>Dance/electronic</td>\n",
              "      <td>G</td>\n",
              "      <td>124.177836</td>\n",
              "      <td>Mayor</td>\n",
              "    </tr>\n",
              "    <tr>\n",
              "      <th>3</th>\n",
              "      <td>Folk/acoustic</td>\n",
              "      <td>D#/Eb</td>\n",
              "      <td>110.348050</td>\n",
              "      <td>Mayor</td>\n",
              "    </tr>\n",
              "  </tbody>\n",
              "</table>\n",
              "</div>"
            ],
            "text/plain": [
              "             Género  Clave       Tempo   Modo\n",
              "0             Metal      E  124.612136  Mayor\n",
              "1           Hip hop  C#/Db  117.998067  Mayor\n",
              "2  Dance/electronic      G  124.177836  Mayor\n",
              "3     Folk/acoustic  D#/Eb  110.348050  Mayor"
            ]
          },
          "execution_count": 29,
          "metadata": {},
          "output_type": "execute_result"
        }
      ],
      "source": [
        "generos = ['metal','hip hop','dance/electronic','folk/acoustic']\n",
        "promedios = pd.DataFrame({'Género' : [], 'Clave': [], \n",
        "                         'Tempo' : [], 'Modo': []})\n",
        "for k in generos:\n",
        "    filtrada = spotify_df[spotify_df[k] == 1]\n",
        "    promedios1 = [[k,\n",
        "               statistics.mode(filtrada['key']),\n",
        "                   statistics.mode(filtrada['mode']),\n",
        "               filtrada['tempo'].mean()\n",
        "              ]]\n",
        "    promedios1 = pd.DataFrame(\n",
        "        promedios1,\n",
        "        columns=['Género', 'Clave', 'Modo', 'Tempo']\n",
        "    )\n",
        "    promedios = pd.concat([promedios,promedios1],\n",
        "                          ignore_index=True)\n",
        "promedios['Género'] = promedios['Género'].map({\n",
        "    'metal':'Metal',\n",
        "    'hip hop':'Hip hop',\n",
        "    'dance/electronic':'Dance/electronic',\n",
        "    'folk/acoustic':'Folk/acoustic'\n",
        "})\n",
        "promedios"
      ]
    },
    {
      "cell_type": "markdown",
      "id": "7906932a-91f9-4d96-84f7-d168bfd2492b",
      "metadata": {
        "id": "7906932a-91f9-4d96-84f7-d168bfd2492b"
      },
      "source": [
        "Se nota que, en promedio, las canciones de metal tienen una tonalidad de mi mayor, de hip hop de do sostenido mayor, de dance/electronic sol mayor y de folk/acoustic re sostenido mayor. Adicionalmente, los tempos de metal y dance/electronic son los mayores y bastante cercanos, siendo los más lentos los de folk/acoustic. Finalmente, ningún caso mostró una moda de modo menor."
      ]
    },
    {
      "cell_type": "markdown",
      "id": "7a20e0ab-983e-4eed-8286-10bafe0d6675",
      "metadata": {
        "id": "7a20e0ab-983e-4eed-8286-10bafe0d6675"
      },
      "source": [
        "A continuación, se realizan los histogramas del tempo:"
      ]
    },
    {
      "cell_type": "code",
      "execution_count": null,
      "id": "651aa739-d660-4485-9093-06998abd962d",
      "metadata": {
        "id": "651aa739-d660-4485-9093-06998abd962d",
        "outputId": "e589f14d-dc34-4008-fcc5-8cc8414b9fba"
      },
      "outputs": [
        {
          "data": {
            "image/png": "[encoded data removed]",
            "text/plain": [
              "<Figure size 360x1440 with 4 Axes>"
            ]
          },
          "metadata": {},
          "output_type": "display_data"
        }
      ],
      "source": [
        "figure, axis = plt.subplots(4, 1, figsize=(5, 20))\n",
        "r = -1\n",
        "for k in generos:\n",
        "    r = r + 1\n",
        "    filtrada = spotify_df[spotify_df[k] == 1]\n",
        "    sns.histplot(x='tempo', data=filtrada, ax=axis[r], bins = 10)\n",
        "    axis[r].set_title(k.title())\n",
        "    axis[r].set_xlabel('Tempo')\n",
        "    axis[r].set_ylabel('Frecuencia absoluta')"
      ]
    },
    {
      "cell_type": "markdown",
      "id": "f6f7f0fc-7c50-4dda-ae21-e286fef3bdcb",
      "metadata": {
        "id": "f6f7f0fc-7c50-4dda-ae21-e286fef3bdcb"
      },
      "source": [
        "La mayor parte de las distribuciones son un poco sesgadas a la izquierda, pero en el caso de folk/acoustic este sesgo es todavía más fuerte."
      ]
    },
    {
      "cell_type": "markdown",
      "id": "31e1946d-f2ba-4a5b-b4a8-bdda4ba91053",
      "metadata": {
        "id": "31e1946d-f2ba-4a5b-b4a8-bdda4ba91053"
      },
      "source": [
        "Los diagramas de barra para la clave son los siguientes:"
      ]
    },
    {
      "cell_type": "code",
      "execution_count": null,
      "id": "98e729c7-326a-45ae-ac7a-28b568d2612e",
      "metadata": {
        "id": "98e729c7-326a-45ae-ac7a-28b568d2612e",
        "outputId": "258088bc-2fd6-41f9-c9e7-455ea62a18f1"
      },
      "outputs": [
        {
          "data": {
            "image/png": "[encoded data removed]",
            "text/plain": [
              "<Figure size 360x1440 with 4 Axes>"
            ]
          },
          "metadata": {},
          "output_type": "display_data"
        }
      ],
      "source": [
        "figure, axis = plt.subplots(4, 1, figsize=(5, 20))\n",
        "r = -1\n",
        "for k in generos:\n",
        "    r = r + 1\n",
        "    filtrada = spotify_df[spotify_df[k] == 1].groupby(['key'])['key'] \\\n",
        "                             .count() \\\n",
        "                             .reset_index(name='count')\n",
        "    sns.barplot(x='key', y='count', data=filtrada, ax=axis[r])\n",
        "    axis[r].bar_label(axis[r].containers[0])\n",
        "    axis[r].set_title(k.title())\n",
        "    axis[r].set_xlabel('Clave')\n",
        "    axis[r].set_ylabel('Frecuencia absoluta')"
      ]
    },
    {
      "cell_type": "markdown",
      "id": "9ce7eb86-be06-4239-aecf-f3124c0b178c",
      "metadata": {
        "id": "9ce7eb86-be06-4239-aecf-f3124c0b178c"
      },
      "source": [
        "En la mayoría de casos, el número de claves es bastante variado. Sin embargo, en algunos casos se ven repeticiones de la misma frecuencia para varias claves, como es el caso del metal y el folk/acoustic."
      ]
    },
    {
      "cell_type": "markdown",
      "id": "ebb52db3-0ce0-41f1-93b9-98de2432bf01",
      "metadata": {
        "id": "ebb52db3-0ce0-41f1-93b9-98de2432bf01"
      },
      "source": [
        "Finalmente, se revisan los diagramas de barras del modo:"
      ]
    },
    {
      "cell_type": "code",
      "execution_count": null,
      "id": "7f64fc1f-7964-4f20-8675-c8df47c4ce0a",
      "metadata": {
        "id": "7f64fc1f-7964-4f20-8675-c8df47c4ce0a",
        "outputId": "413fcb36-411e-42a1-cbbc-8ee0b61b0642"
      },
      "outputs": [
        {
          "data": {
            "image/png": "[encoded data removed]",
            "text/plain": [
              "<Figure size 360x1440 with 4 Axes>"
            ]
          },
          "metadata": {},
          "output_type": "display_data"
        }
      ],
      "source": [
        "figure, axis = plt.subplots(4, 1, figsize=(5, 20))\n",
        "r = -1\n",
        "for k in generos:\n",
        "    r = r + 1\n",
        "    filtrada = spotify_df[spotify_df[k] == 1].groupby(['mode'])['mode'] \\\n",
        "                             .count() \\\n",
        "                             .reset_index(name='count')\n",
        "    sns.barplot(x='mode', y='count', data=filtrada, ax=axis[r])\n",
        "    axis[r].bar_label(axis[r].containers[0])\n",
        "    axis[r].set_title(k.title())\n",
        "    axis[r].set_xlabel('Modo')\n",
        "    axis[r].set_ylabel('Frecuencia absoluta')"
      ]
    },
    {
      "cell_type": "markdown",
      "id": "9f66c2e1-06ff-4a1d-9ee5-60f09b566d4f",
      "metadata": {
        "id": "9f66c2e1-06ff-4a1d-9ee5-60f09b566d4f"
      },
      "source": [
        "En este caso, lo destacable es que la relación entre modo mayor y modo menor es bastante equilibrada para el caso de dance/electronica y el caso más desequilibrado es el de folk/acoustic, con sesgo hacia el modo mayor."
      ]
    },
    {
      "cell_type": "markdown",
      "id": "f8c88dca-b560-4688-b457-301fc008752c",
      "metadata": {
        "id": "f8c88dca-b560-4688-b457-301fc008752c"
      },
      "source": [
        "Al revisar el caso de otros géneros, se nota que hay muy casos casos para ejemplos como el jazz. Así, es evidente que la base de datos proveía es muy pequeña para determinados análisis, ya que suceden casos como el del jazz o el del año 2020. Por lo tanto, para análisis más complejos sería bueno tener muchos más datos."
      ]
    }
  ],
  "metadata": {
    "kernelspec": {
      "display_name": "Python 3 (ipykernel)",
      "language": "python",
      "name": "python3"
    },
    "language_info": {
      "codemirror_mode": {
        "name": "ipython",
        "version": 3
      },
      "file_extension": ".py",
      "mimetype": "text/x-python",
      "name": "python",
      "nbconvert_exporter": "python",
      "pygments_lexer": "ipython3",
      "version": "3.9.12"
    },
    "toc-autonumbering": false,
    "toc-showcode": false,
    "toc-showmarkdowntxt": false,
    "colab": {
      "provenance": [],
      "include_colab_link": true
    }
  },
  "nbformat": 4,
  "nbformat_minor": 5
}
